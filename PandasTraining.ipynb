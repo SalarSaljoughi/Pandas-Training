{
 "cells": [
  {
   "cell_type": "markdown",
   "id": "894bf31b",
   "metadata": {},
   "source": [
    "# Pandas Training"
   ]
  },
  {
   "cell_type": "code",
   "execution_count": 1,
   "id": "c038d45a",
   "metadata": {},
   "outputs": [],
   "source": [
    "import numpy as np\n",
    "import pandas as pd"
   ]
  },
  {
   "cell_type": "markdown",
   "id": "d030668b",
   "metadata": {},
   "source": [
    "## Pandas Series"
   ]
  },
  {
   "cell_type": "code",
   "execution_count": 2,
   "id": "6b96bd48",
   "metadata": {},
   "outputs": [
    {
     "name": "stdout",
     "output_type": "stream",
     "text": [
      "0    1\n",
      "1    7\n",
      "2    2\n",
      "dtype: int64\n",
      "<class 'pandas.core.series.Series'>\n"
     ]
    }
   ],
   "source": [
    "a = [1, 7, 2]\n",
    "myvar = pd.Series(a)\n",
    "print(myvar)\n",
    "print(type(myvar))"
   ]
  },
  {
   "cell_type": "code",
   "execution_count": 3,
   "id": "270341cd",
   "metadata": {},
   "outputs": [
    {
     "name": "stdout",
     "output_type": "stream",
     "text": [
      "x    1\n",
      "y    7\n",
      "z    2\n",
      "dtype: int64\n"
     ]
    }
   ],
   "source": [
    "# if nothing is specified, values are labeled with their index number, starting with index zero\n",
    "# to create our own indexes, we use index argument\n",
    "\n",
    "myvar = pd.Series(a, index = [\"x\", \"y\", \"z\"])\n",
    "print(myvar)"
   ]
  },
  {
   "cell_type": "code",
   "execution_count": 4,
   "id": "b450774d",
   "metadata": {},
   "outputs": [
    {
     "name": "stdout",
     "output_type": "stream",
     "text": [
      "day1    420\n",
      "day2    380\n",
      "day3    390\n",
      "dtype: int64\n",
      "day1    420\n",
      "day2    380\n",
      "dtype: int64\n"
     ]
    }
   ],
   "source": [
    "# we can use key/value pair like dictionaries to create Series\n",
    "# the keys of the dictionary befome the labels\n",
    "\n",
    "calories = {\"day1\": 420, \"day2\": 380, \"day3\": 390}\n",
    "\n",
    "myvar = pd.Series(calories)\n",
    "print(myvar)\n",
    "\n",
    "# if we only want to use. some of the items in the dictionary, we can ise the index argument to specify the items we want\n",
    "myvar_2 = pd.Series(calories, index = [\"day1\", \"day2\"])\n",
    "print(myvar_2)"
   ]
  },
  {
   "cell_type": "markdown",
   "id": "c579f24a",
   "metadata": {},
   "source": [
    "## DataFrame"
   ]
  },
  {
   "cell_type": "code",
   "execution_count": 5,
   "id": "02ef98d3",
   "metadata": {},
   "outputs": [
    {
     "data": {
      "text/html": [
       "<div>\n",
       "<style scoped>\n",
       "    .dataframe tbody tr th:only-of-type {\n",
       "        vertical-align: middle;\n",
       "    }\n",
       "\n",
       "    .dataframe tbody tr th {\n",
       "        vertical-align: top;\n",
       "    }\n",
       "\n",
       "    .dataframe thead th {\n",
       "        text-align: right;\n",
       "    }\n",
       "</style>\n",
       "<table border=\"1\" class=\"dataframe\">\n",
       "  <thead>\n",
       "    <tr style=\"text-align: right;\">\n",
       "      <th></th>\n",
       "      <th>name</th>\n",
       "      <th>city</th>\n",
       "      <th>age</th>\n",
       "      <th>py-score</th>\n",
       "    </tr>\n",
       "  </thead>\n",
       "  <tbody>\n",
       "    <tr>\n",
       "      <th>101</th>\n",
       "      <td>Xavier</td>\n",
       "      <td>Mexico City</td>\n",
       "      <td>41</td>\n",
       "      <td>88.0</td>\n",
       "    </tr>\n",
       "    <tr>\n",
       "      <th>102</th>\n",
       "      <td>Ann</td>\n",
       "      <td>Toronto</td>\n",
       "      <td>28</td>\n",
       "      <td>79.0</td>\n",
       "    </tr>\n",
       "    <tr>\n",
       "      <th>103</th>\n",
       "      <td>Jana</td>\n",
       "      <td>Prague</td>\n",
       "      <td>33</td>\n",
       "      <td>81.0</td>\n",
       "    </tr>\n",
       "    <tr>\n",
       "      <th>104</th>\n",
       "      <td>Yi</td>\n",
       "      <td>Shanghai</td>\n",
       "      <td>34</td>\n",
       "      <td>80.0</td>\n",
       "    </tr>\n",
       "    <tr>\n",
       "      <th>105</th>\n",
       "      <td>Robin</td>\n",
       "      <td>Manchester</td>\n",
       "      <td>38</td>\n",
       "      <td>68.0</td>\n",
       "    </tr>\n",
       "    <tr>\n",
       "      <th>106</th>\n",
       "      <td>Amal</td>\n",
       "      <td>Cairo</td>\n",
       "      <td>31</td>\n",
       "      <td>61.0</td>\n",
       "    </tr>\n",
       "    <tr>\n",
       "      <th>107</th>\n",
       "      <td>Nori</td>\n",
       "      <td>Osaka</td>\n",
       "      <td>37</td>\n",
       "      <td>84.0</td>\n",
       "    </tr>\n",
       "  </tbody>\n",
       "</table>\n",
       "</div>"
      ],
      "text/plain": [
       "       name         city  age  py-score\n",
       "101  Xavier  Mexico City   41      88.0\n",
       "102     Ann      Toronto   28      79.0\n",
       "103    Jana       Prague   33      81.0\n",
       "104      Yi     Shanghai   34      80.0\n",
       "105   Robin   Manchester   38      68.0\n",
       "106    Amal        Cairo   31      61.0\n",
       "107    Nori        Osaka   37      84.0"
      ]
     },
     "execution_count": 5,
     "metadata": {},
     "output_type": "execute_result"
    }
   ],
   "source": [
    "data = {\n",
    "    'name': ['Xavier', 'Ann', 'Jana', 'Yi', 'Robin', 'Amal', 'Nori'],\n",
    "    'city': ['Mexico City', 'Toronto', 'Prague', 'Shanghai',\n",
    "             'Manchester', 'Cairo', 'Osaka'],\n",
    "    'age': [41, 28, 33, 34, 38, 31, 37],\n",
    "    'py-score': [88.0, 79.0, 81.0, 80.0, 68.0, 61.0, 84.0]\n",
    "}\n",
    "\n",
    "row_labels = [101, 102, 103, 104, 105, 106, 107]\n",
    "\n",
    "df = pd.DataFrame(data, index = row_labels)\n",
    "df"
   ]
  },
  {
   "cell_type": "code",
   "execution_count": 6,
   "id": "07dad182",
   "metadata": {},
   "outputs": [
    {
     "name": "stdout",
     "output_type": "stream",
     "text": [
      "101    Mexico City\n",
      "102        Toronto\n",
      "103         Prague\n",
      "104       Shanghai\n",
      "105     Manchester\n",
      "106          Cairo\n",
      "107          Osaka\n",
      "Name: city, dtype: object\n",
      "101    Mexico City\n",
      "102        Toronto\n",
      "103         Prague\n",
      "104       Shanghai\n",
      "105     Manchester\n",
      "106          Cairo\n",
      "107          Osaka\n",
      "Name: city, dtype: object\n",
      "<class 'pandas.core.series.Series'>\n"
     ]
    }
   ],
   "source": [
    "# to access a column in pandas\n",
    "\n",
    "cities = df[\"city\"]\n",
    "print(cities)\n",
    "\n",
    "# OR\n",
    "\n",
    "cities_1 = df.city\n",
    "print(cities_1)\n",
    "\n",
    "print(type(cities))"
   ]
  },
  {
   "cell_type": "code",
   "execution_count": 7,
   "id": "4554f939",
   "metadata": {},
   "outputs": [
    {
     "data": {
      "text/plain": [
       "'Toronto'"
      ]
     },
     "execution_count": 7,
     "metadata": {},
     "output_type": "execute_result"
    }
   ],
   "source": [
    "# Each column of a pandas DataFrame is an instance of pandas.Series, a structure that holds one-dimensional data and their labels. \n",
    "# You can get a single item of a Series object the same way you would with a dictionary, by using its label as a key:\n",
    "\n",
    "cities[102]"
   ]
  },
  {
   "cell_type": "code",
   "execution_count": 8,
   "id": "bfc05332",
   "metadata": {},
   "outputs": [
    {
     "data": {
      "text/plain": [
       "'Toronto'"
      ]
     },
     "execution_count": 8,
     "metadata": {},
     "output_type": "execute_result"
    }
   ],
   "source": [
    "df[\"city\"][102]"
   ]
  },
  {
   "cell_type": "code",
   "execution_count": 9,
   "id": "eabc9460",
   "metadata": {},
   "outputs": [
    {
     "data": {
      "text/plain": [
       "name          Jana\n",
       "city        Prague\n",
       "age             33\n",
       "py-score      81.0\n",
       "Name: 103, dtype: object"
      ]
     },
     "execution_count": 9,
     "metadata": {},
     "output_type": "execute_result"
    }
   ],
   "source": [
    "# to access the whole row of the DataFrame\n",
    "\n",
    "df.loc[103]"
   ]
  },
  {
   "cell_type": "markdown",
   "id": "cd45a94f",
   "metadata": {},
   "source": [
    "### creating pandas DataFrame\n",
    "#### 1. with Dictionaries"
   ]
  },
  {
   "cell_type": "code",
   "execution_count": 10,
   "id": "a57a1d47",
   "metadata": {},
   "outputs": [
    {
     "data": {
      "text/html": [
       "<div>\n",
       "<style scoped>\n",
       "    .dataframe tbody tr th:only-of-type {\n",
       "        vertical-align: middle;\n",
       "    }\n",
       "\n",
       "    .dataframe tbody tr th {\n",
       "        vertical-align: top;\n",
       "    }\n",
       "\n",
       "    .dataframe thead th {\n",
       "        text-align: right;\n",
       "    }\n",
       "</style>\n",
       "<table border=\"1\" class=\"dataframe\">\n",
       "  <thead>\n",
       "    <tr style=\"text-align: right;\">\n",
       "      <th></th>\n",
       "      <th>x</th>\n",
       "      <th>y</th>\n",
       "      <th>z</th>\n",
       "    </tr>\n",
       "  </thead>\n",
       "  <tbody>\n",
       "    <tr>\n",
       "      <th>0</th>\n",
       "      <td>1</td>\n",
       "      <td>2</td>\n",
       "      <td>100</td>\n",
       "    </tr>\n",
       "    <tr>\n",
       "      <th>1</th>\n",
       "      <td>2</td>\n",
       "      <td>4</td>\n",
       "      <td>100</td>\n",
       "    </tr>\n",
       "    <tr>\n",
       "      <th>2</th>\n",
       "      <td>3</td>\n",
       "      <td>8</td>\n",
       "      <td>100</td>\n",
       "    </tr>\n",
       "  </tbody>\n",
       "</table>\n",
       "</div>"
      ],
      "text/plain": [
       "   x  y    z\n",
       "0  1  2  100\n",
       "1  2  4  100\n",
       "2  3  8  100"
      ]
     },
     "execution_count": 10,
     "metadata": {},
     "output_type": "execute_result"
    }
   ],
   "source": [
    "# keys of the dictionary are the DataFrame's column labels and the dictionary values are the data values in the corresponding DataFrame columns.\n",
    "\n",
    "d = {'x': [1, 2, 3], 'y': np.array([2, 4, 8]), 'z': 100}\n",
    "df_1 = pd.DataFrame(d)\n",
    "df_1"
   ]
  },
  {
   "cell_type": "code",
   "execution_count": 11,
   "id": "4c5adf5e",
   "metadata": {},
   "outputs": [
    {
     "data": {
      "text/html": [
       "<div>\n",
       "<style scoped>\n",
       "    .dataframe tbody tr th:only-of-type {\n",
       "        vertical-align: middle;\n",
       "    }\n",
       "\n",
       "    .dataframe tbody tr th {\n",
       "        vertical-align: top;\n",
       "    }\n",
       "\n",
       "    .dataframe thead th {\n",
       "        text-align: right;\n",
       "    }\n",
       "</style>\n",
       "<table border=\"1\" class=\"dataframe\">\n",
       "  <thead>\n",
       "    <tr style=\"text-align: right;\">\n",
       "      <th></th>\n",
       "      <th>z</th>\n",
       "      <th>y</th>\n",
       "      <th>x</th>\n",
       "    </tr>\n",
       "  </thead>\n",
       "  <tbody>\n",
       "    <tr>\n",
       "      <th>100</th>\n",
       "      <td>100</td>\n",
       "      <td>2</td>\n",
       "      <td>1</td>\n",
       "    </tr>\n",
       "    <tr>\n",
       "      <th>200</th>\n",
       "      <td>100</td>\n",
       "      <td>4</td>\n",
       "      <td>2</td>\n",
       "    </tr>\n",
       "    <tr>\n",
       "      <th>300</th>\n",
       "      <td>100</td>\n",
       "      <td>8</td>\n",
       "      <td>3</td>\n",
       "    </tr>\n",
       "  </tbody>\n",
       "</table>\n",
       "</div>"
      ],
      "text/plain": [
       "       z  y  x\n",
       "100  100  2  1\n",
       "200  100  4  2\n",
       "300  100  8  3"
      ]
     },
     "execution_count": 11,
     "metadata": {},
     "output_type": "execute_result"
    }
   ],
   "source": [
    "# we can control the order of the columns with the columns parameter.\n",
    "\n",
    "df_2 = pd.DataFrame(d, index = [100, 200, 300], columns = [\"z\", \"y\", \"x\"])\n",
    "df_2"
   ]
  },
  {
   "cell_type": "markdown",
   "id": "21f07881",
   "metadata": {},
   "source": [
    "#### 2.  list of dictionaries"
   ]
  },
  {
   "cell_type": "code",
   "execution_count": 12,
   "id": "e6f3338c",
   "metadata": {},
   "outputs": [
    {
     "data": {
      "text/html": [
       "<div>\n",
       "<style scoped>\n",
       "    .dataframe tbody tr th:only-of-type {\n",
       "        vertical-align: middle;\n",
       "    }\n",
       "\n",
       "    .dataframe tbody tr th {\n",
       "        vertical-align: top;\n",
       "    }\n",
       "\n",
       "    .dataframe thead th {\n",
       "        text-align: right;\n",
       "    }\n",
       "</style>\n",
       "<table border=\"1\" class=\"dataframe\">\n",
       "  <thead>\n",
       "    <tr style=\"text-align: right;\">\n",
       "      <th></th>\n",
       "      <th>x</th>\n",
       "      <th>y</th>\n",
       "      <th>z</th>\n",
       "    </tr>\n",
       "  </thead>\n",
       "  <tbody>\n",
       "    <tr>\n",
       "      <th>0</th>\n",
       "      <td>1</td>\n",
       "      <td>2</td>\n",
       "      <td>100</td>\n",
       "    </tr>\n",
       "    <tr>\n",
       "      <th>1</th>\n",
       "      <td>2</td>\n",
       "      <td>4</td>\n",
       "      <td>100</td>\n",
       "    </tr>\n",
       "    <tr>\n",
       "      <th>2</th>\n",
       "      <td>3</td>\n",
       "      <td>8</td>\n",
       "      <td>100</td>\n",
       "    </tr>\n",
       "  </tbody>\n",
       "</table>\n",
       "</div>"
      ],
      "text/plain": [
       "   x  y    z\n",
       "0  1  2  100\n",
       "1  2  4  100\n",
       "2  3  8  100"
      ]
     },
     "execution_count": 12,
     "metadata": {},
     "output_type": "execute_result"
    }
   ],
   "source": [
    "l = [{'x': 1, 'y': 2, 'z': 100},\n",
    "     {'x': 2, 'y': 4, 'z': 100},\n",
    "     {'x': 3, 'y': 8, 'z': 100}]\n",
    "\n",
    "df_3 = pd.DataFrame(l)\n",
    "df_3"
   ]
  },
  {
   "cell_type": "markdown",
   "id": "29f1712b",
   "metadata": {},
   "source": [
    "#### 3. nested lists"
   ]
  },
  {
   "cell_type": "code",
   "execution_count": 13,
   "id": "83414eaf",
   "metadata": {},
   "outputs": [
    {
     "data": {
      "text/html": [
       "<div>\n",
       "<style scoped>\n",
       "    .dataframe tbody tr th:only-of-type {\n",
       "        vertical-align: middle;\n",
       "    }\n",
       "\n",
       "    .dataframe tbody tr th {\n",
       "        vertical-align: top;\n",
       "    }\n",
       "\n",
       "    .dataframe thead th {\n",
       "        text-align: right;\n",
       "    }\n",
       "</style>\n",
       "<table border=\"1\" class=\"dataframe\">\n",
       "  <thead>\n",
       "    <tr style=\"text-align: right;\">\n",
       "      <th></th>\n",
       "      <th>x</th>\n",
       "      <th>y</th>\n",
       "      <th>z</th>\n",
       "    </tr>\n",
       "  </thead>\n",
       "  <tbody>\n",
       "    <tr>\n",
       "      <th>0</th>\n",
       "      <td>1</td>\n",
       "      <td>2</td>\n",
       "      <td>100</td>\n",
       "    </tr>\n",
       "    <tr>\n",
       "      <th>1</th>\n",
       "      <td>2</td>\n",
       "      <td>4</td>\n",
       "      <td>100</td>\n",
       "    </tr>\n",
       "    <tr>\n",
       "      <th>2</th>\n",
       "      <td>3</td>\n",
       "      <td>8</td>\n",
       "      <td>100</td>\n",
       "    </tr>\n",
       "  </tbody>\n",
       "</table>\n",
       "</div>"
      ],
      "text/plain": [
       "   x  y    z\n",
       "0  1  2  100\n",
       "1  2  4  100\n",
       "2  3  8  100"
      ]
     },
     "execution_count": 13,
     "metadata": {},
     "output_type": "execute_result"
    }
   ],
   "source": [
    "l = [[1, 2, 100],\n",
    "     [2, 4, 100],\n",
    "     [3, 8, 100]]\n",
    "\n",
    "df_4 = pd.DataFrame(l, columns=['x', 'y', 'z'])\n",
    "df_4"
   ]
  },
  {
   "cell_type": "markdown",
   "id": "682c2ca3",
   "metadata": {},
   "source": [
    "#### 4. list of tuples"
   ]
  },
  {
   "cell_type": "code",
   "execution_count": 14,
   "id": "9e85bcad",
   "metadata": {},
   "outputs": [
    {
     "data": {
      "text/html": [
       "<div>\n",
       "<style scoped>\n",
       "    .dataframe tbody tr th:only-of-type {\n",
       "        vertical-align: middle;\n",
       "    }\n",
       "\n",
       "    .dataframe tbody tr th {\n",
       "        vertical-align: top;\n",
       "    }\n",
       "\n",
       "    .dataframe thead th {\n",
       "        text-align: right;\n",
       "    }\n",
       "</style>\n",
       "<table border=\"1\" class=\"dataframe\">\n",
       "  <thead>\n",
       "    <tr style=\"text-align: right;\">\n",
       "      <th></th>\n",
       "      <th>x</th>\n",
       "      <th>y</th>\n",
       "    </tr>\n",
       "  </thead>\n",
       "  <tbody>\n",
       "    <tr>\n",
       "      <th>0</th>\n",
       "      <td>1</td>\n",
       "      <td>2</td>\n",
       "    </tr>\n",
       "    <tr>\n",
       "      <th>1</th>\n",
       "      <td>2</td>\n",
       "      <td>4</td>\n",
       "    </tr>\n",
       "    <tr>\n",
       "      <th>2</th>\n",
       "      <td>3</td>\n",
       "      <td>8</td>\n",
       "    </tr>\n",
       "  </tbody>\n",
       "</table>\n",
       "</div>"
      ],
      "text/plain": [
       "   x  y\n",
       "0  1  2\n",
       "1  2  4\n",
       "2  3  8"
      ]
     },
     "execution_count": 14,
     "metadata": {},
     "output_type": "execute_result"
    }
   ],
   "source": [
    "m = [(1, 2), (2, 4), (3, 8)]\n",
    "df_5 = pd.DataFrame(m, columns = [\"x\", \"y\"])\n",
    "df_5"
   ]
  },
  {
   "cell_type": "markdown",
   "id": "87620c78",
   "metadata": {},
   "source": [
    "#### 5. numpy arrays"
   ]
  },
  {
   "cell_type": "code",
   "execution_count": 15,
   "id": "5e057a09",
   "metadata": {},
   "outputs": [
    {
     "data": {
      "text/html": [
       "<div>\n",
       "<style scoped>\n",
       "    .dataframe tbody tr th:only-of-type {\n",
       "        vertical-align: middle;\n",
       "    }\n",
       "\n",
       "    .dataframe tbody tr th {\n",
       "        vertical-align: top;\n",
       "    }\n",
       "\n",
       "    .dataframe thead th {\n",
       "        text-align: right;\n",
       "    }\n",
       "</style>\n",
       "<table border=\"1\" class=\"dataframe\">\n",
       "  <thead>\n",
       "    <tr style=\"text-align: right;\">\n",
       "      <th></th>\n",
       "      <th>x</th>\n",
       "      <th>y</th>\n",
       "      <th>z</th>\n",
       "    </tr>\n",
       "  </thead>\n",
       "  <tbody>\n",
       "    <tr>\n",
       "      <th>0</th>\n",
       "      <td>1</td>\n",
       "      <td>2</td>\n",
       "      <td>100</td>\n",
       "    </tr>\n",
       "    <tr>\n",
       "      <th>1</th>\n",
       "      <td>2</td>\n",
       "      <td>4</td>\n",
       "      <td>100</td>\n",
       "    </tr>\n",
       "    <tr>\n",
       "      <th>2</th>\n",
       "      <td>3</td>\n",
       "      <td>8</td>\n",
       "      <td>100</td>\n",
       "    </tr>\n",
       "  </tbody>\n",
       "</table>\n",
       "</div>"
      ],
      "text/plain": [
       "   x  y    z\n",
       "0  1  2  100\n",
       "1  2  4  100\n",
       "2  3  8  100"
      ]
     },
     "execution_count": 15,
     "metadata": {},
     "output_type": "execute_result"
    }
   ],
   "source": [
    "arr = np.array([[1, 2, 100],\n",
    "                [2, 4, 100],\n",
    "                [3, 8, 100]])\n",
    "\n",
    "df_6 = pd.DataFrame(arr, columns=['x', 'y', 'z'])\n",
    "df_6"
   ]
  },
  {
   "cell_type": "code",
   "execution_count": 16,
   "id": "10aaa2c7",
   "metadata": {},
   "outputs": [
    {
     "data": {
      "text/html": [
       "<div>\n",
       "<style scoped>\n",
       "    .dataframe tbody tr th:only-of-type {\n",
       "        vertical-align: middle;\n",
       "    }\n",
       "\n",
       "    .dataframe tbody tr th {\n",
       "        vertical-align: top;\n",
       "    }\n",
       "\n",
       "    .dataframe thead th {\n",
       "        text-align: right;\n",
       "    }\n",
       "</style>\n",
       "<table border=\"1\" class=\"dataframe\">\n",
       "  <thead>\n",
       "    <tr style=\"text-align: right;\">\n",
       "      <th></th>\n",
       "      <th>x</th>\n",
       "      <th>y</th>\n",
       "      <th>z</th>\n",
       "    </tr>\n",
       "  </thead>\n",
       "  <tbody>\n",
       "    <tr>\n",
       "      <th>0</th>\n",
       "      <td>1000</td>\n",
       "      <td>2</td>\n",
       "      <td>100</td>\n",
       "    </tr>\n",
       "    <tr>\n",
       "      <th>1</th>\n",
       "      <td>2</td>\n",
       "      <td>4</td>\n",
       "      <td>100</td>\n",
       "    </tr>\n",
       "    <tr>\n",
       "      <th>2</th>\n",
       "      <td>3</td>\n",
       "      <td>8</td>\n",
       "      <td>100</td>\n",
       "    </tr>\n",
       "  </tbody>\n",
       "</table>\n",
       "</div>"
      ],
      "text/plain": [
       "      x  y    z\n",
       "0  1000  2  100\n",
       "1     2  4  100\n",
       "2     3  8  100"
      ]
     },
     "execution_count": 16,
     "metadata": {},
     "output_type": "execute_result"
    }
   ],
   "source": [
    "# Although this example looks almost the same as the nested list implementation above, it has one advantage: You can specify the optional parameter copy.\n",
    "# When copy is set to False (its default setting), the data from the NumPy array isn’t copied. This means that the original data from the array is assigned to the pandas DataFrame. If you modify the array, then your DataFrame will change too:\n",
    "\n",
    "arr[0, 0] = 1000\n",
    "df_6\n",
    "\n",
    "# if this behavior isn’t what you want, then you should specify copy=True in the DataFrame constructor. That way, df_ will be created with a copy of the values from arr instead of the actual values."
   ]
  },
  {
   "cell_type": "markdown",
   "id": "ef8e730f",
   "metadata": {},
   "source": [
    "## Importing and Exporting\n",
    "#### saving and reading from CSV"
   ]
  },
  {
   "cell_type": "code",
   "execution_count": 17,
   "id": "b6ccc287",
   "metadata": {},
   "outputs": [
    {
     "data": {
      "text/html": [
       "<div>\n",
       "<style scoped>\n",
       "    .dataframe tbody tr th:only-of-type {\n",
       "        vertical-align: middle;\n",
       "    }\n",
       "\n",
       "    .dataframe tbody tr th {\n",
       "        vertical-align: top;\n",
       "    }\n",
       "\n",
       "    .dataframe thead th {\n",
       "        text-align: right;\n",
       "    }\n",
       "</style>\n",
       "<table border=\"1\" class=\"dataframe\">\n",
       "  <thead>\n",
       "    <tr style=\"text-align: right;\">\n",
       "      <th></th>\n",
       "      <th>name</th>\n",
       "      <th>city</th>\n",
       "      <th>age</th>\n",
       "      <th>py-score</th>\n",
       "    </tr>\n",
       "  </thead>\n",
       "  <tbody>\n",
       "    <tr>\n",
       "      <th>101</th>\n",
       "      <td>Xavier</td>\n",
       "      <td>Mexico City</td>\n",
       "      <td>41</td>\n",
       "      <td>88.0</td>\n",
       "    </tr>\n",
       "    <tr>\n",
       "      <th>102</th>\n",
       "      <td>Ann</td>\n",
       "      <td>Toronto</td>\n",
       "      <td>28</td>\n",
       "      <td>79.0</td>\n",
       "    </tr>\n",
       "    <tr>\n",
       "      <th>103</th>\n",
       "      <td>Jana</td>\n",
       "      <td>Prague</td>\n",
       "      <td>33</td>\n",
       "      <td>81.0</td>\n",
       "    </tr>\n",
       "    <tr>\n",
       "      <th>104</th>\n",
       "      <td>Yi</td>\n",
       "      <td>Shanghai</td>\n",
       "      <td>34</td>\n",
       "      <td>80.0</td>\n",
       "    </tr>\n",
       "    <tr>\n",
       "      <th>105</th>\n",
       "      <td>Robin</td>\n",
       "      <td>Manchester</td>\n",
       "      <td>38</td>\n",
       "      <td>68.0</td>\n",
       "    </tr>\n",
       "    <tr>\n",
       "      <th>106</th>\n",
       "      <td>Amal</td>\n",
       "      <td>Cairo</td>\n",
       "      <td>31</td>\n",
       "      <td>61.0</td>\n",
       "    </tr>\n",
       "    <tr>\n",
       "      <th>107</th>\n",
       "      <td>Nori</td>\n",
       "      <td>Osaka</td>\n",
       "      <td>37</td>\n",
       "      <td>84.0</td>\n",
       "    </tr>\n",
       "  </tbody>\n",
       "</table>\n",
       "</div>"
      ],
      "text/plain": [
       "       name         city  age  py-score\n",
       "101  Xavier  Mexico City   41      88.0\n",
       "102     Ann      Toronto   28      79.0\n",
       "103    Jana       Prague   33      81.0\n",
       "104      Yi     Shanghai   34      80.0\n",
       "105   Robin   Manchester   38      68.0\n",
       "106    Amal        Cairo   31      61.0\n",
       "107    Nori        Osaka   37      84.0"
      ]
     },
     "execution_count": 17,
     "metadata": {},
     "output_type": "execute_result"
    }
   ],
   "source": [
    "# saving data to csv file\n",
    "df.to_csv('data.csv')\n",
    "\n",
    "# reading data from CSV file\n",
    "# index_col=0 specifies that the row labels are located in the first column of the CSV file.\n",
    "pd.read_csv('data.csv', index_col = 0)"
   ]
  },
  {
   "cell_type": "markdown",
   "id": "8a84654d",
   "metadata": {},
   "source": [
    "## Retrieving Data"
   ]
  },
  {
   "cell_type": "code",
   "execution_count": 18,
   "id": "480d6240",
   "metadata": {},
   "outputs": [
    {
     "data": {
      "text/plain": [
       "Index([101, 102, 103, 104, 105, 106, 107], dtype='int64')"
      ]
     },
     "execution_count": 18,
     "metadata": {},
     "output_type": "execute_result"
    }
   ],
   "source": [
    "# access row labels\n",
    "df.index"
   ]
  },
  {
   "cell_type": "code",
   "execution_count": 19,
   "id": "e002168c",
   "metadata": {},
   "outputs": [
    {
     "data": {
      "text/plain": [
       "Index(['name', 'city', 'age', 'py-score'], dtype='object')"
      ]
     },
     "execution_count": 19,
     "metadata": {},
     "output_type": "execute_result"
    }
   ],
   "source": [
    "# access column names\n",
    "df.columns"
   ]
  },
  {
   "cell_type": "code",
   "execution_count": 20,
   "id": "043720c3",
   "metadata": {},
   "outputs": [
    {
     "name": "stdout",
     "output_type": "stream",
     "text": [
      "Index([10, 11, 12, 13, 14, 15, 16], dtype='int64')\n",
      "      name         city  age  py-score\n",
      "10  Xavier  Mexico City   41      88.0\n",
      "11     Ann      Toronto   28      79.0\n",
      "12    Jana       Prague   33      81.0\n",
      "13      Yi     Shanghai   34      80.0\n",
      "14   Robin   Manchester   38      68.0\n",
      "15    Amal        Cairo   31      61.0\n",
      "16    Nori        Osaka   37      84.0\n"
     ]
    }
   ],
   "source": [
    "# if we want to modify labels\n",
    "df.index = np.arange(10,17)\n",
    "print(df.index)\n",
    "print(df)"
   ]
  },
  {
   "cell_type": "code",
   "execution_count": 21,
   "id": "c24a31a9",
   "metadata": {},
   "outputs": [
    {
     "data": {
      "text/plain": [
       "array([['Xavier', 'Mexico City', 41, 88.0],\n",
       "       ['Ann', 'Toronto', 28, 79.0],\n",
       "       ['Jana', 'Prague', 33, 81.0],\n",
       "       ['Yi', 'Shanghai', 34, 80.0],\n",
       "       ['Robin', 'Manchester', 38, 68.0],\n",
       "       ['Amal', 'Cairo', 31, 61.0],\n",
       "       ['Nori', 'Osaka', 37, 84.0]], dtype=object)"
      ]
     },
     "execution_count": 21,
     "metadata": {},
     "output_type": "execute_result"
    }
   ],
   "source": [
    "# if we want to access data without the labels we can use either of these below\n",
    "\n",
    "df.values\n",
    "\n",
    "# OR\n",
    "\n",
    "#df.to_numpy()"
   ]
  },
  {
   "cell_type": "markdown",
   "id": "59555c90",
   "metadata": {},
   "source": [
    "## pandas DataFrame Size"
   ]
  },
  {
   "cell_type": "code",
   "execution_count": 22,
   "id": "5c2f534b",
   "metadata": {},
   "outputs": [
    {
     "name": "stdout",
     "output_type": "stream",
     "text": [
      "2\n",
      "(7, 4)\n",
      "28\n"
     ]
    }
   ],
   "source": [
    "# return number of dimensions: this below returns 2 because we have 2 dimensions (rows and columns)\n",
    "print(df.ndim)\n",
    "\n",
    "# return number of data values across each demension: this below returns (7, 4) first number for number of rows and second number for number of columns\n",
    "print(df.shape)\n",
    "\n",
    "# total number of data values: this returns and integer equal to the number of values in the DataFrame\n",
    "print(df.size)"
   ]
  },
  {
   "cell_type": "markdown",
   "id": "4480e2c2",
   "metadata": {},
   "source": [
    "## Accessing Data"
   ]
  },
  {
   "cell_type": "code",
   "execution_count": 23,
   "id": "6f184b27",
   "metadata": {},
   "outputs": [
    {
     "data": {
      "text/html": [
       "<div>\n",
       "<style scoped>\n",
       "    .dataframe tbody tr th:only-of-type {\n",
       "        vertical-align: middle;\n",
       "    }\n",
       "\n",
       "    .dataframe tbody tr th {\n",
       "        vertical-align: top;\n",
       "    }\n",
       "\n",
       "    .dataframe thead th {\n",
       "        text-align: right;\n",
       "    }\n",
       "</style>\n",
       "<table border=\"1\" class=\"dataframe\">\n",
       "  <thead>\n",
       "    <tr style=\"text-align: right;\">\n",
       "      <th></th>\n",
       "      <th>name</th>\n",
       "      <th>city</th>\n",
       "      <th>age</th>\n",
       "      <th>py-score</th>\n",
       "    </tr>\n",
       "  </thead>\n",
       "  <tbody>\n",
       "    <tr>\n",
       "      <th>10</th>\n",
       "      <td>Xavier</td>\n",
       "      <td>Mexico City</td>\n",
       "      <td>41</td>\n",
       "      <td>88.0</td>\n",
       "    </tr>\n",
       "    <tr>\n",
       "      <th>11</th>\n",
       "      <td>Ann</td>\n",
       "      <td>Toronto</td>\n",
       "      <td>28</td>\n",
       "      <td>79.0</td>\n",
       "    </tr>\n",
       "    <tr>\n",
       "      <th>12</th>\n",
       "      <td>Jana</td>\n",
       "      <td>Prague</td>\n",
       "      <td>33</td>\n",
       "      <td>81.0</td>\n",
       "    </tr>\n",
       "    <tr>\n",
       "      <th>13</th>\n",
       "      <td>Yi</td>\n",
       "      <td>Shanghai</td>\n",
       "      <td>34</td>\n",
       "      <td>80.0</td>\n",
       "    </tr>\n",
       "    <tr>\n",
       "      <th>14</th>\n",
       "      <td>Robin</td>\n",
       "      <td>Manchester</td>\n",
       "      <td>38</td>\n",
       "      <td>68.0</td>\n",
       "    </tr>\n",
       "    <tr>\n",
       "      <th>15</th>\n",
       "      <td>Amal</td>\n",
       "      <td>Cairo</td>\n",
       "      <td>31</td>\n",
       "      <td>61.0</td>\n",
       "    </tr>\n",
       "    <tr>\n",
       "      <th>16</th>\n",
       "      <td>Nori</td>\n",
       "      <td>Osaka</td>\n",
       "      <td>37</td>\n",
       "      <td>84.0</td>\n",
       "    </tr>\n",
       "  </tbody>\n",
       "</table>\n",
       "</div>"
      ],
      "text/plain": [
       "      name         city  age  py-score\n",
       "10  Xavier  Mexico City   41      88.0\n",
       "11     Ann      Toronto   28      79.0\n",
       "12    Jana       Prague   33      81.0\n",
       "13      Yi     Shanghai   34      80.0\n",
       "14   Robin   Manchester   38      68.0\n",
       "15    Amal        Cairo   31      61.0\n",
       "16    Nori        Osaka   37      84.0"
      ]
     },
     "execution_count": 23,
     "metadata": {},
     "output_type": "execute_result"
    }
   ],
   "source": [
    "df"
   ]
  },
  {
   "cell_type": "markdown",
   "id": "96f66711",
   "metadata": {},
   "source": [
    "#### Access certain rows and columns"
   ]
  },
  {
   "cell_type": "code",
   "execution_count": 24,
   "id": "e5d459d4",
   "metadata": {},
   "outputs": [
    {
     "data": {
      "text/plain": [
       "10    Xavier\n",
       "11       Ann\n",
       "12      Jana\n",
       "13        Yi\n",
       "14     Robin\n",
       "15      Amal\n",
       "16      Nori\n",
       "Name: name, dtype: object"
      ]
     },
     "execution_count": 24,
     "metadata": {},
     "output_type": "execute_result"
    }
   ],
   "source": [
    "# access particular column\n",
    "df[\"name\"]"
   ]
  },
  {
   "cell_type": "code",
   "execution_count": 25,
   "id": "85c3091f",
   "metadata": {},
   "outputs": [
    {
     "data": {
      "text/plain": [
       "name             Xavier\n",
       "city        Mexico City\n",
       "age                  41\n",
       "py-score           88.0\n",
       "Name: 10, dtype: object"
      ]
     },
     "execution_count": 25,
     "metadata": {},
     "output_type": "execute_result"
    }
   ],
   "source": [
    "# access particular row\n",
    "# .loc accessor use row or column labels to access the data\n",
    "df.loc[10]"
   ]
  },
  {
   "cell_type": "code",
   "execution_count": 26,
   "id": "61527705",
   "metadata": {},
   "outputs": [
    {
     "data": {
      "text/plain": [
       "'Xavier'"
      ]
     },
     "execution_count": 26,
     "metadata": {},
     "output_type": "execute_result"
    }
   ],
   "source": [
    "df.loc[10, \"name\"]"
   ]
  },
  {
   "cell_type": "code",
   "execution_count": 27,
   "id": "6108f698",
   "metadata": {},
   "outputs": [
    {
     "data": {
      "text/plain": [
       "name             Xavier\n",
       "city        Mexico City\n",
       "age                  41\n",
       "py-score           88.0\n",
       "Name: 10, dtype: object"
      ]
     },
     "execution_count": 27,
     "metadata": {},
     "output_type": "execute_result"
    }
   ],
   "source": [
    "# .iloc accessor use row or column indexes to access the data\n",
    "df.iloc[0]"
   ]
  },
  {
   "cell_type": "code",
   "execution_count": 28,
   "id": "18a728eb",
   "metadata": {},
   "outputs": [
    {
     "data": {
      "text/plain": [
       "'Xavier'"
      ]
     },
     "execution_count": 28,
     "metadata": {},
     "output_type": "execute_result"
    }
   ],
   "source": [
    "df.iloc[0, 0]"
   ]
  },
  {
   "cell_type": "markdown",
   "id": "f1a5c64a",
   "metadata": {},
   "source": [
    "#### Slicing"
   ]
  },
  {
   "cell_type": "code",
   "execution_count": 29,
   "id": "eba41024",
   "metadata": {},
   "outputs": [
    {
     "data": {
      "text/plain": [
       "10    Mexico City\n",
       "11        Toronto\n",
       "12         Prague\n",
       "13       Shanghai\n",
       "14     Manchester\n",
       "15          Cairo\n",
       "16          Osaka\n",
       "Name: city, dtype: object"
      ]
     },
     "execution_count": 29,
     "metadata": {},
     "output_type": "execute_result"
    }
   ],
   "source": [
    "# loc and iloc allows slicing\n",
    "\n",
    "df.loc[:, 'city']"
   ]
  },
  {
   "cell_type": "code",
   "execution_count": 30,
   "id": "d2e58de6",
   "metadata": {},
   "outputs": [
    {
     "data": {
      "text/plain": [
       "10    Mexico City\n",
       "11        Toronto\n",
       "12         Prague\n",
       "13       Shanghai\n",
       "14     Manchester\n",
       "15          Cairo\n",
       "16          Osaka\n",
       "Name: city, dtype: object"
      ]
     },
     "execution_count": 30,
     "metadata": {},
     "output_type": "execute_result"
    }
   ],
   "source": [
    "df.iloc[:, 1]"
   ]
  },
  {
   "cell_type": "code",
   "execution_count": 31,
   "id": "153a9c2d",
   "metadata": {},
   "outputs": [
    {
     "data": {
      "text/html": [
       "<div>\n",
       "<style scoped>\n",
       "    .dataframe tbody tr th:only-of-type {\n",
       "        vertical-align: middle;\n",
       "    }\n",
       "\n",
       "    .dataframe tbody tr th {\n",
       "        vertical-align: top;\n",
       "    }\n",
       "\n",
       "    .dataframe thead th {\n",
       "        text-align: right;\n",
       "    }\n",
       "</style>\n",
       "<table border=\"1\" class=\"dataframe\">\n",
       "  <thead>\n",
       "    <tr style=\"text-align: right;\">\n",
       "      <th></th>\n",
       "      <th>name</th>\n",
       "      <th>city</th>\n",
       "    </tr>\n",
       "  </thead>\n",
       "  <tbody>\n",
       "    <tr>\n",
       "      <th>11</th>\n",
       "      <td>Ann</td>\n",
       "      <td>Toronto</td>\n",
       "    </tr>\n",
       "    <tr>\n",
       "      <th>12</th>\n",
       "      <td>Jana</td>\n",
       "      <td>Prague</td>\n",
       "    </tr>\n",
       "    <tr>\n",
       "      <th>13</th>\n",
       "      <td>Yi</td>\n",
       "      <td>Shanghai</td>\n",
       "    </tr>\n",
       "    <tr>\n",
       "      <th>14</th>\n",
       "      <td>Robin</td>\n",
       "      <td>Manchester</td>\n",
       "    </tr>\n",
       "    <tr>\n",
       "      <th>15</th>\n",
       "      <td>Amal</td>\n",
       "      <td>Cairo</td>\n",
       "    </tr>\n",
       "  </tbody>\n",
       "</table>\n",
       "</div>"
      ],
      "text/plain": [
       "     name        city\n",
       "11    Ann     Toronto\n",
       "12   Jana      Prague\n",
       "13     Yi    Shanghai\n",
       "14  Robin  Manchester\n",
       "15   Amal       Cairo"
      ]
     },
     "execution_count": 31,
     "metadata": {},
     "output_type": "execute_result"
    }
   ],
   "source": [
    "# to access multiple rows or columns\n",
    "df.loc[11:15, ['name', 'city']]"
   ]
  },
  {
   "cell_type": "code",
   "execution_count": 32,
   "id": "51c7d7dc",
   "metadata": {},
   "outputs": [
    {
     "data": {
      "text/html": [
       "<div>\n",
       "<style scoped>\n",
       "    .dataframe tbody tr th:only-of-type {\n",
       "        vertical-align: middle;\n",
       "    }\n",
       "\n",
       "    .dataframe tbody tr th {\n",
       "        vertical-align: top;\n",
       "    }\n",
       "\n",
       "    .dataframe thead th {\n",
       "        text-align: right;\n",
       "    }\n",
       "</style>\n",
       "<table border=\"1\" class=\"dataframe\">\n",
       "  <thead>\n",
       "    <tr style=\"text-align: right;\">\n",
       "      <th></th>\n",
       "      <th>name</th>\n",
       "      <th>city</th>\n",
       "    </tr>\n",
       "  </thead>\n",
       "  <tbody>\n",
       "    <tr>\n",
       "      <th>11</th>\n",
       "      <td>Ann</td>\n",
       "      <td>Toronto</td>\n",
       "    </tr>\n",
       "    <tr>\n",
       "      <th>12</th>\n",
       "      <td>Jana</td>\n",
       "      <td>Prague</td>\n",
       "    </tr>\n",
       "    <tr>\n",
       "      <th>13</th>\n",
       "      <td>Yi</td>\n",
       "      <td>Shanghai</td>\n",
       "    </tr>\n",
       "    <tr>\n",
       "      <th>14</th>\n",
       "      <td>Robin</td>\n",
       "      <td>Manchester</td>\n",
       "    </tr>\n",
       "    <tr>\n",
       "      <th>15</th>\n",
       "      <td>Amal</td>\n",
       "      <td>Cairo</td>\n",
       "    </tr>\n",
       "  </tbody>\n",
       "</table>\n",
       "</div>"
      ],
      "text/plain": [
       "     name        city\n",
       "11    Ann     Toronto\n",
       "12   Jana      Prague\n",
       "13     Yi    Shanghai\n",
       "14  Robin  Manchester\n",
       "15   Amal       Cairo"
      ]
     },
     "execution_count": 32,
     "metadata": {},
     "output_type": "execute_result"
    }
   ],
   "source": [
    "df.iloc[1:6, [0, 1]]"
   ]
  },
  {
   "cell_type": "code",
   "execution_count": 33,
   "id": "ae6c3191",
   "metadata": {},
   "outputs": [],
   "source": [
    "# on 2 examples above, This brings up a very important difference between .loc[] and .iloc[]. \n",
    "# As you can see from the previous example, when you pass the row labels 11:15 to .loc[], you get the rows 11 through 15. \n",
    "# However, when you pass the row indices 1:6 to .iloc[], you only get the rows with the indices 1 through 5.\n",
    "\n",
    "# with .loc[] both start and stop indicies are inclusive, meaning they are included. with the returned values\n",
    "# with .iloc[] the stop index of the a slice is exclusive, meaning it is excluded from the returned values."
   ]
  },
  {
   "cell_type": "code",
   "execution_count": 34,
   "id": "230dfe6c",
   "metadata": {},
   "outputs": [
    {
     "data": {
      "text/plain": [
       "11     Ann\n",
       "13      Yi\n",
       "15    Amal\n",
       "Name: name, dtype: object"
      ]
     },
     "execution_count": 34,
     "metadata": {},
     "output_type": "execute_result"
    }
   ],
   "source": [
    "# Skip every other row\n",
    "df.iloc[1:6:2, 0]"
   ]
  },
  {
   "cell_type": "markdown",
   "id": "918a7367",
   "metadata": {},
   "source": [
    "#### at [ ] and iat [ ]"
   ]
  },
  {
   "cell_type": "code",
   "execution_count": 35,
   "id": "3d12b883",
   "metadata": {},
   "outputs": [
    {
     "data": {
      "text/plain": [
       "'Jana'"
      ]
     },
     "execution_count": 35,
     "metadata": {},
     "output_type": "execute_result"
    }
   ],
   "source": [
    "# It’s possible to use .loc[] and .iloc[] to get particular data values. \n",
    "# However, when you need only a single value, pandas recommends using the specialized accessors .at[] and .iat[]:\n",
    "\n",
    "df.at[12, 'name']\n",
    "\n",
    "# OR\n",
    "\n",
    "# df.iat[2, 0]"
   ]
  },
  {
   "cell_type": "markdown",
   "id": "e45c248b",
   "metadata": {},
   "source": [
    "## Modifying Data"
   ]
  },
  {
   "cell_type": "code",
   "execution_count": 36,
   "id": "88701168",
   "metadata": {},
   "outputs": [
    {
     "data": {
      "text/html": [
       "<div>\n",
       "<style scoped>\n",
       "    .dataframe tbody tr th:only-of-type {\n",
       "        vertical-align: middle;\n",
       "    }\n",
       "\n",
       "    .dataframe tbody tr th {\n",
       "        vertical-align: top;\n",
       "    }\n",
       "\n",
       "    .dataframe thead th {\n",
       "        text-align: right;\n",
       "    }\n",
       "</style>\n",
       "<table border=\"1\" class=\"dataframe\">\n",
       "  <thead>\n",
       "    <tr style=\"text-align: right;\">\n",
       "      <th></th>\n",
       "      <th>name</th>\n",
       "      <th>city</th>\n",
       "      <th>age</th>\n",
       "      <th>py-score</th>\n",
       "    </tr>\n",
       "  </thead>\n",
       "  <tbody>\n",
       "    <tr>\n",
       "      <th>10</th>\n",
       "      <td>Xavier</td>\n",
       "      <td>Mexico City</td>\n",
       "      <td>41</td>\n",
       "      <td>88.0</td>\n",
       "    </tr>\n",
       "    <tr>\n",
       "      <th>11</th>\n",
       "      <td>Ann</td>\n",
       "      <td>Toronto</td>\n",
       "      <td>28</td>\n",
       "      <td>79.0</td>\n",
       "    </tr>\n",
       "    <tr>\n",
       "      <th>12</th>\n",
       "      <td>Jana</td>\n",
       "      <td>Prague</td>\n",
       "      <td>33</td>\n",
       "      <td>81.0</td>\n",
       "    </tr>\n",
       "    <tr>\n",
       "      <th>13</th>\n",
       "      <td>Yi</td>\n",
       "      <td>Shanghai</td>\n",
       "      <td>34</td>\n",
       "      <td>80.0</td>\n",
       "    </tr>\n",
       "    <tr>\n",
       "      <th>14</th>\n",
       "      <td>Robin</td>\n",
       "      <td>Manchester</td>\n",
       "      <td>38</td>\n",
       "      <td>68.0</td>\n",
       "    </tr>\n",
       "    <tr>\n",
       "      <th>15</th>\n",
       "      <td>Amal</td>\n",
       "      <td>Cairo</td>\n",
       "      <td>31</td>\n",
       "      <td>61.0</td>\n",
       "    </tr>\n",
       "    <tr>\n",
       "      <th>16</th>\n",
       "      <td>Nori</td>\n",
       "      <td>Osaka</td>\n",
       "      <td>37</td>\n",
       "      <td>84.0</td>\n",
       "    </tr>\n",
       "  </tbody>\n",
       "</table>\n",
       "</div>"
      ],
      "text/plain": [
       "      name         city  age  py-score\n",
       "10  Xavier  Mexico City   41      88.0\n",
       "11     Ann      Toronto   28      79.0\n",
       "12    Jana       Prague   33      81.0\n",
       "13      Yi     Shanghai   34      80.0\n",
       "14   Robin   Manchester   38      68.0\n",
       "15    Amal        Cairo   31      61.0\n",
       "16    Nori        Osaka   37      84.0"
      ]
     },
     "execution_count": 36,
     "metadata": {},
     "output_type": "execute_result"
    }
   ],
   "source": [
    "df"
   ]
  },
  {
   "cell_type": "code",
   "execution_count": 37,
   "id": "43fdc42e",
   "metadata": {},
   "outputs": [
    {
     "data": {
      "text/plain": [
       "10    40.0\n",
       "11    50.0\n",
       "12    60.0\n",
       "13    70.0\n",
       "14     0.0\n",
       "15     0.0\n",
       "16     0.0\n",
       "Name: py-score, dtype: float64"
      ]
     },
     "execution_count": 37,
     "metadata": {},
     "output_type": "execute_result"
    }
   ],
   "source": [
    "# The statement df.loc[:13, 'py-score'] = [40, 50, 60, 70] modifies the first four items (rows 10 through 13) in the column py-score using the values from your supplied list. \n",
    "# Using df.loc[14:, 'py-score'] = 0 sets the remaining values in this column to 0.\n",
    "\n",
    "df.loc[:, 'py-score']\n",
    "df.loc[:13, 'py-score'] = [40, 50, 60, 70]\n",
    "df.loc[14:, 'py-score'] = 0\n",
    "\n",
    "df['py-score']"
   ]
  },
  {
   "cell_type": "code",
   "execution_count": 38,
   "id": "b203ab3d",
   "metadata": {},
   "outputs": [
    {
     "data": {
      "text/html": [
       "<div>\n",
       "<style scoped>\n",
       "    .dataframe tbody tr th:only-of-type {\n",
       "        vertical-align: middle;\n",
       "    }\n",
       "\n",
       "    .dataframe tbody tr th {\n",
       "        vertical-align: top;\n",
       "    }\n",
       "\n",
       "    .dataframe thead th {\n",
       "        text-align: right;\n",
       "    }\n",
       "</style>\n",
       "<table border=\"1\" class=\"dataframe\">\n",
       "  <thead>\n",
       "    <tr style=\"text-align: right;\">\n",
       "      <th></th>\n",
       "      <th>name</th>\n",
       "      <th>city</th>\n",
       "      <th>age</th>\n",
       "      <th>py-score</th>\n",
       "    </tr>\n",
       "  </thead>\n",
       "  <tbody>\n",
       "    <tr>\n",
       "      <th>10</th>\n",
       "      <td>Xavier</td>\n",
       "      <td>Mexico City</td>\n",
       "      <td>41</td>\n",
       "      <td>40.0</td>\n",
       "    </tr>\n",
       "    <tr>\n",
       "      <th>11</th>\n",
       "      <td>Ann</td>\n",
       "      <td>Toronto</td>\n",
       "      <td>28</td>\n",
       "      <td>50.0</td>\n",
       "    </tr>\n",
       "    <tr>\n",
       "      <th>12</th>\n",
       "      <td>Jana</td>\n",
       "      <td>Prague</td>\n",
       "      <td>33</td>\n",
       "      <td>60.0</td>\n",
       "    </tr>\n",
       "    <tr>\n",
       "      <th>13</th>\n",
       "      <td>Yi</td>\n",
       "      <td>Shanghai</td>\n",
       "      <td>34</td>\n",
       "      <td>70.0</td>\n",
       "    </tr>\n",
       "    <tr>\n",
       "      <th>14</th>\n",
       "      <td>Robin</td>\n",
       "      <td>Manchester</td>\n",
       "      <td>38</td>\n",
       "      <td>0.0</td>\n",
       "    </tr>\n",
       "    <tr>\n",
       "      <th>15</th>\n",
       "      <td>Amal</td>\n",
       "      <td>Cairo</td>\n",
       "      <td>31</td>\n",
       "      <td>0.0</td>\n",
       "    </tr>\n",
       "    <tr>\n",
       "      <th>16</th>\n",
       "      <td>Nori</td>\n",
       "      <td>Osaka</td>\n",
       "      <td>37</td>\n",
       "      <td>0.0</td>\n",
       "    </tr>\n",
       "  </tbody>\n",
       "</table>\n",
       "</div>"
      ],
      "text/plain": [
       "      name         city  age  py-score\n",
       "10  Xavier  Mexico City   41      40.0\n",
       "11     Ann      Toronto   28      50.0\n",
       "12    Jana       Prague   33      60.0\n",
       "13      Yi     Shanghai   34      70.0\n",
       "14   Robin   Manchester   38       0.0\n",
       "15    Amal        Cairo   31       0.0\n",
       "16    Nori        Osaka   37       0.0"
      ]
     },
     "execution_count": 38,
     "metadata": {},
     "output_type": "execute_result"
    }
   ],
   "source": [
    "df"
   ]
  },
  {
   "cell_type": "code",
   "execution_count": 39,
   "id": "af5574b7",
   "metadata": {},
   "outputs": [
    {
     "data": {
      "text/html": [
       "<div>\n",
       "<style scoped>\n",
       "    .dataframe tbody tr th:only-of-type {\n",
       "        vertical-align: middle;\n",
       "    }\n",
       "\n",
       "    .dataframe tbody tr th {\n",
       "        vertical-align: top;\n",
       "    }\n",
       "\n",
       "    .dataframe thead th {\n",
       "        text-align: right;\n",
       "    }\n",
       "</style>\n",
       "<table border=\"1\" class=\"dataframe\">\n",
       "  <thead>\n",
       "    <tr style=\"text-align: right;\">\n",
       "      <th></th>\n",
       "      <th>name</th>\n",
       "      <th>city</th>\n",
       "      <th>age</th>\n",
       "      <th>py-score</th>\n",
       "    </tr>\n",
       "  </thead>\n",
       "  <tbody>\n",
       "    <tr>\n",
       "      <th>10</th>\n",
       "      <td>Xavier</td>\n",
       "      <td>Mexico City</td>\n",
       "      <td>41</td>\n",
       "      <td>88.0</td>\n",
       "    </tr>\n",
       "    <tr>\n",
       "      <th>11</th>\n",
       "      <td>Ann</td>\n",
       "      <td>Toronto</td>\n",
       "      <td>28</td>\n",
       "      <td>79.0</td>\n",
       "    </tr>\n",
       "    <tr>\n",
       "      <th>12</th>\n",
       "      <td>Jana</td>\n",
       "      <td>Prague</td>\n",
       "      <td>33</td>\n",
       "      <td>81.0</td>\n",
       "    </tr>\n",
       "    <tr>\n",
       "      <th>13</th>\n",
       "      <td>Yi</td>\n",
       "      <td>Shanghai</td>\n",
       "      <td>34</td>\n",
       "      <td>80.0</td>\n",
       "    </tr>\n",
       "    <tr>\n",
       "      <th>14</th>\n",
       "      <td>Robin</td>\n",
       "      <td>Manchester</td>\n",
       "      <td>38</td>\n",
       "      <td>68.0</td>\n",
       "    </tr>\n",
       "    <tr>\n",
       "      <th>15</th>\n",
       "      <td>Amal</td>\n",
       "      <td>Cairo</td>\n",
       "      <td>31</td>\n",
       "      <td>61.0</td>\n",
       "    </tr>\n",
       "    <tr>\n",
       "      <th>16</th>\n",
       "      <td>Nori</td>\n",
       "      <td>Osaka</td>\n",
       "      <td>37</td>\n",
       "      <td>84.0</td>\n",
       "    </tr>\n",
       "  </tbody>\n",
       "</table>\n",
       "</div>"
      ],
      "text/plain": [
       "      name         city  age  py-score\n",
       "10  Xavier  Mexico City   41      88.0\n",
       "11     Ann      Toronto   28      79.0\n",
       "12    Jana       Prague   33      81.0\n",
       "13      Yi     Shanghai   34      80.0\n",
       "14   Robin   Manchester   38      68.0\n",
       "15    Amal        Cairo   31      61.0\n",
       "16    Nori        Osaka   37      84.0"
      ]
     },
     "execution_count": 39,
     "metadata": {},
     "output_type": "execute_result"
    }
   ],
   "source": [
    "# using negative indecies\n",
    "\n",
    "df.iloc[:, -1] = np.array([88.0, 79.0, 81.0, 80.0, 68.0, 61.0, 84.0])\n",
    "df"
   ]
  },
  {
   "cell_type": "markdown",
   "id": "f3c87d63",
   "metadata": {},
   "source": [
    "## Inserting and Deleting Rows"
   ]
  },
  {
   "cell_type": "code",
   "execution_count": 40,
   "id": "d7e71dba",
   "metadata": {},
   "outputs": [
    {
     "data": {
      "text/html": [
       "<div>\n",
       "<style scoped>\n",
       "    .dataframe tbody tr th:only-of-type {\n",
       "        vertical-align: middle;\n",
       "    }\n",
       "\n",
       "    .dataframe tbody tr th {\n",
       "        vertical-align: top;\n",
       "    }\n",
       "\n",
       "    .dataframe thead th {\n",
       "        text-align: right;\n",
       "    }\n",
       "</style>\n",
       "<table border=\"1\" class=\"dataframe\">\n",
       "  <thead>\n",
       "    <tr style=\"text-align: right;\">\n",
       "      <th></th>\n",
       "      <th>name</th>\n",
       "      <th>city</th>\n",
       "      <th>age</th>\n",
       "      <th>py-score</th>\n",
       "    </tr>\n",
       "  </thead>\n",
       "  <tbody>\n",
       "    <tr>\n",
       "      <th>10</th>\n",
       "      <td>Xavier</td>\n",
       "      <td>Mexico City</td>\n",
       "      <td>41</td>\n",
       "      <td>88.0</td>\n",
       "    </tr>\n",
       "    <tr>\n",
       "      <th>11</th>\n",
       "      <td>Ann</td>\n",
       "      <td>Toronto</td>\n",
       "      <td>28</td>\n",
       "      <td>79.0</td>\n",
       "    </tr>\n",
       "    <tr>\n",
       "      <th>12</th>\n",
       "      <td>Jana</td>\n",
       "      <td>Prague</td>\n",
       "      <td>33</td>\n",
       "      <td>81.0</td>\n",
       "    </tr>\n",
       "    <tr>\n",
       "      <th>13</th>\n",
       "      <td>Yi</td>\n",
       "      <td>Shanghai</td>\n",
       "      <td>34</td>\n",
       "      <td>80.0</td>\n",
       "    </tr>\n",
       "    <tr>\n",
       "      <th>14</th>\n",
       "      <td>Robin</td>\n",
       "      <td>Manchester</td>\n",
       "      <td>38</td>\n",
       "      <td>68.0</td>\n",
       "    </tr>\n",
       "    <tr>\n",
       "      <th>15</th>\n",
       "      <td>Amal</td>\n",
       "      <td>Cairo</td>\n",
       "      <td>31</td>\n",
       "      <td>61.0</td>\n",
       "    </tr>\n",
       "    <tr>\n",
       "      <th>16</th>\n",
       "      <td>Nori</td>\n",
       "      <td>Osaka</td>\n",
       "      <td>37</td>\n",
       "      <td>84.0</td>\n",
       "    </tr>\n",
       "  </tbody>\n",
       "</table>\n",
       "</div>"
      ],
      "text/plain": [
       "      name         city  age  py-score\n",
       "10  Xavier  Mexico City   41      88.0\n",
       "11     Ann      Toronto   28      79.0\n",
       "12    Jana       Prague   33      81.0\n",
       "13      Yi     Shanghai   34      80.0\n",
       "14   Robin   Manchester   38      68.0\n",
       "15    Amal        Cairo   31      61.0\n",
       "16    Nori        Osaka   37      84.0"
      ]
     },
     "execution_count": 40,
     "metadata": {},
     "output_type": "execute_result"
    }
   ],
   "source": [
    "df"
   ]
  },
  {
   "cell_type": "markdown",
   "id": "75588981",
   "metadata": {},
   "source": [
    "#### Inserting Row: Basic method"
   ]
  },
  {
   "cell_type": "code",
   "execution_count": 41,
   "id": "6fb4889c",
   "metadata": {},
   "outputs": [
    {
     "data": {
      "text/html": [
       "<div>\n",
       "<style scoped>\n",
       "    .dataframe tbody tr th:only-of-type {\n",
       "        vertical-align: middle;\n",
       "    }\n",
       "\n",
       "    .dataframe tbody tr th {\n",
       "        vertical-align: top;\n",
       "    }\n",
       "\n",
       "    .dataframe thead th {\n",
       "        text-align: right;\n",
       "    }\n",
       "</style>\n",
       "<table border=\"1\" class=\"dataframe\">\n",
       "  <thead>\n",
       "    <tr style=\"text-align: right;\">\n",
       "      <th></th>\n",
       "      <th>name</th>\n",
       "      <th>city</th>\n",
       "      <th>age</th>\n",
       "      <th>py-score</th>\n",
       "    </tr>\n",
       "  </thead>\n",
       "  <tbody>\n",
       "    <tr>\n",
       "      <th>10</th>\n",
       "      <td>Xavier</td>\n",
       "      <td>Mexico City</td>\n",
       "      <td>41</td>\n",
       "      <td>88.0</td>\n",
       "    </tr>\n",
       "    <tr>\n",
       "      <th>11</th>\n",
       "      <td>Ann</td>\n",
       "      <td>Toronto</td>\n",
       "      <td>28</td>\n",
       "      <td>79.0</td>\n",
       "    </tr>\n",
       "    <tr>\n",
       "      <th>12</th>\n",
       "      <td>Jana</td>\n",
       "      <td>Prague</td>\n",
       "      <td>33</td>\n",
       "      <td>81.0</td>\n",
       "    </tr>\n",
       "    <tr>\n",
       "      <th>13</th>\n",
       "      <td>Yi</td>\n",
       "      <td>Shanghai</td>\n",
       "      <td>34</td>\n",
       "      <td>80.0</td>\n",
       "    </tr>\n",
       "    <tr>\n",
       "      <th>14</th>\n",
       "      <td>Robin</td>\n",
       "      <td>Manchester</td>\n",
       "      <td>38</td>\n",
       "      <td>68.0</td>\n",
       "    </tr>\n",
       "    <tr>\n",
       "      <th>15</th>\n",
       "      <td>Amal</td>\n",
       "      <td>Cairo</td>\n",
       "      <td>31</td>\n",
       "      <td>61.0</td>\n",
       "    </tr>\n",
       "    <tr>\n",
       "      <th>16</th>\n",
       "      <td>Nori</td>\n",
       "      <td>Osaka</td>\n",
       "      <td>37</td>\n",
       "      <td>84.0</td>\n",
       "    </tr>\n",
       "    <tr>\n",
       "      <th>17</th>\n",
       "      <td>john</td>\n",
       "      <td>Boston</td>\n",
       "      <td>34</td>\n",
       "      <td>79.0</td>\n",
       "    </tr>\n",
       "    <tr>\n",
       "      <th>18</th>\n",
       "      <td>Tom</td>\n",
       "      <td>Denver</td>\n",
       "      <td>30</td>\n",
       "      <td>95.0</td>\n",
       "    </tr>\n",
       "    <tr>\n",
       "      <th>19</th>\n",
       "      <td>Drake</td>\n",
       "      <td>New York</td>\n",
       "      <td>30</td>\n",
       "      <td>80.0</td>\n",
       "    </tr>\n",
       "  </tbody>\n",
       "</table>\n",
       "</div>"
      ],
      "text/plain": [
       "      name         city  age  py-score\n",
       "10  Xavier  Mexico City   41      88.0\n",
       "11     Ann      Toronto   28      79.0\n",
       "12    Jana       Prague   33      81.0\n",
       "13      Yi     Shanghai   34      80.0\n",
       "14   Robin   Manchester   38      68.0\n",
       "15    Amal        Cairo   31      61.0\n",
       "16    Nori        Osaka   37      84.0\n",
       "17    john       Boston   34      79.0\n",
       "18     Tom       Denver   30      95.0\n",
       "19   Drake     New York   30      80.0"
      ]
     },
     "execution_count": 41,
     "metadata": {},
     "output_type": "execute_result"
    }
   ],
   "source": [
    "df.loc[17] = [\"john\", \"Boston\", 34, 79] \n",
    "df.loc[18] = [\"Tom\", \"Denver\", 30, 95]\n",
    "df.loc[19] = [\"Drake\", \"New York\", 30, 80]\n",
    "df"
   ]
  },
  {
   "cell_type": "markdown",
   "id": "8e59fca0",
   "metadata": {},
   "source": [
    "#### Inserting Row: concat ( ) method"
   ]
  },
  {
   "cell_type": "code",
   "execution_count": 42,
   "id": "efb3cc1b",
   "metadata": {},
   "outputs": [
    {
     "data": {
      "text/html": [
       "<div>\n",
       "<style scoped>\n",
       "    .dataframe tbody tr th:only-of-type {\n",
       "        vertical-align: middle;\n",
       "    }\n",
       "\n",
       "    .dataframe tbody tr th {\n",
       "        vertical-align: top;\n",
       "    }\n",
       "\n",
       "    .dataframe thead th {\n",
       "        text-align: right;\n",
       "    }\n",
       "</style>\n",
       "<table border=\"1\" class=\"dataframe\">\n",
       "  <thead>\n",
       "    <tr style=\"text-align: right;\">\n",
       "      <th></th>\n",
       "      <th>Mathematics</th>\n",
       "      <th>Science</th>\n",
       "    </tr>\n",
       "  </thead>\n",
       "  <tbody>\n",
       "    <tr>\n",
       "      <th>Aiyana</th>\n",
       "      <td>95</td>\n",
       "      <td>99</td>\n",
       "    </tr>\n",
       "    <tr>\n",
       "      <th>Anisha</th>\n",
       "      <td>90</td>\n",
       "      <td>95</td>\n",
       "    </tr>\n",
       "    <tr>\n",
       "      <th>Saanvi</th>\n",
       "      <td>99</td>\n",
       "      <td>92</td>\n",
       "    </tr>\n",
       "    <tr>\n",
       "      <th>Snehal</th>\n",
       "      <td>96</td>\n",
       "      <td>99</td>\n",
       "    </tr>\n",
       "  </tbody>\n",
       "</table>\n",
       "</div>"
      ],
      "text/plain": [
       "        Mathematics  Science\n",
       "Aiyana           95       99\n",
       "Anisha           90       95\n",
       "Saanvi           99       92\n",
       "Snehal           96       99"
      ]
     },
     "execution_count": 42,
     "metadata": {},
     "output_type": "execute_result"
    }
   ],
   "source": [
    "# Create a dataframe\n",
    "\n",
    "dict = {\"Mathematics\":[95, 90, 99],\n",
    "        \"Science\": [99, 95, 92]}\n",
    " \n",
    "df1 = pd.DataFrame(dict, index=[\"Aiyana\", \"Anisha\", \"Saanvi\"])\n",
    "\n",
    "# Create another dataframe\n",
    "\n",
    "df2 = pd.DataFrame({\"Mathematics\": [96],\n",
    "                    \"Science\": [99]},\n",
    "                   index=[\"Snehal\"])\n",
    "\n",
    "# Concat dataframes\n",
    "\n",
    "pd.concat([df1, df2])"
   ]
  },
  {
   "cell_type": "markdown",
   "id": "20fe836e",
   "metadata": {},
   "source": [
    "#### Removing Row"
   ]
  },
  {
   "cell_type": "code",
   "execution_count": 43,
   "id": "c8397dec",
   "metadata": {},
   "outputs": [
    {
     "data": {
      "text/html": [
       "<div>\n",
       "<style scoped>\n",
       "    .dataframe tbody tr th:only-of-type {\n",
       "        vertical-align: middle;\n",
       "    }\n",
       "\n",
       "    .dataframe tbody tr th {\n",
       "        vertical-align: top;\n",
       "    }\n",
       "\n",
       "    .dataframe thead th {\n",
       "        text-align: right;\n",
       "    }\n",
       "</style>\n",
       "<table border=\"1\" class=\"dataframe\">\n",
       "  <thead>\n",
       "    <tr style=\"text-align: right;\">\n",
       "      <th></th>\n",
       "      <th>name</th>\n",
       "      <th>city</th>\n",
       "      <th>age</th>\n",
       "      <th>py-score</th>\n",
       "    </tr>\n",
       "  </thead>\n",
       "  <tbody>\n",
       "    <tr>\n",
       "      <th>10</th>\n",
       "      <td>Xavier</td>\n",
       "      <td>Mexico City</td>\n",
       "      <td>41</td>\n",
       "      <td>88.0</td>\n",
       "    </tr>\n",
       "    <tr>\n",
       "      <th>11</th>\n",
       "      <td>Ann</td>\n",
       "      <td>Toronto</td>\n",
       "      <td>28</td>\n",
       "      <td>79.0</td>\n",
       "    </tr>\n",
       "    <tr>\n",
       "      <th>12</th>\n",
       "      <td>Jana</td>\n",
       "      <td>Prague</td>\n",
       "      <td>33</td>\n",
       "      <td>81.0</td>\n",
       "    </tr>\n",
       "    <tr>\n",
       "      <th>13</th>\n",
       "      <td>Yi</td>\n",
       "      <td>Shanghai</td>\n",
       "      <td>34</td>\n",
       "      <td>80.0</td>\n",
       "    </tr>\n",
       "    <tr>\n",
       "      <th>14</th>\n",
       "      <td>Robin</td>\n",
       "      <td>Manchester</td>\n",
       "      <td>38</td>\n",
       "      <td>68.0</td>\n",
       "    </tr>\n",
       "    <tr>\n",
       "      <th>15</th>\n",
       "      <td>Amal</td>\n",
       "      <td>Cairo</td>\n",
       "      <td>31</td>\n",
       "      <td>61.0</td>\n",
       "    </tr>\n",
       "    <tr>\n",
       "      <th>16</th>\n",
       "      <td>Nori</td>\n",
       "      <td>Osaka</td>\n",
       "      <td>37</td>\n",
       "      <td>84.0</td>\n",
       "    </tr>\n",
       "  </tbody>\n",
       "</table>\n",
       "</div>"
      ],
      "text/plain": [
       "      name         city  age  py-score\n",
       "10  Xavier  Mexico City   41      88.0\n",
       "11     Ann      Toronto   28      79.0\n",
       "12    Jana       Prague   33      81.0\n",
       "13      Yi     Shanghai   34      80.0\n",
       "14   Robin   Manchester   38      68.0\n",
       "15    Amal        Cairo   31      61.0\n",
       "16    Nori        Osaka   37      84.0"
      ]
     },
     "execution_count": 43,
     "metadata": {},
     "output_type": "execute_result"
    }
   ],
   "source": [
    "# removing row\n",
    "\n",
    "df = df.drop(labels = 17)\n",
    "\n",
    "# OR\n",
    "\n",
    "df = df.drop(labels = [18, 19])\n",
    "\n",
    "df"
   ]
  },
  {
   "cell_type": "code",
   "execution_count": 44,
   "id": "29d2ad2d",
   "metadata": {},
   "outputs": [],
   "source": [
    "# By default, it returns the pandas DataFrame with the specified rows removed. \n",
    "# If you pass inplace=True, then the original DataFrame will be modified and you’ll get None as the return value."
   ]
  },
  {
   "cell_type": "markdown",
   "id": "16813ea5",
   "metadata": {},
   "source": [
    "## Inserting and Deleting Columns\n",
    "#### Inserting new column"
   ]
  },
  {
   "cell_type": "code",
   "execution_count": 45,
   "id": "dabeb369",
   "metadata": {},
   "outputs": [
    {
     "data": {
      "text/html": [
       "<div>\n",
       "<style scoped>\n",
       "    .dataframe tbody tr th:only-of-type {\n",
       "        vertical-align: middle;\n",
       "    }\n",
       "\n",
       "    .dataframe tbody tr th {\n",
       "        vertical-align: top;\n",
       "    }\n",
       "\n",
       "    .dataframe thead th {\n",
       "        text-align: right;\n",
       "    }\n",
       "</style>\n",
       "<table border=\"1\" class=\"dataframe\">\n",
       "  <thead>\n",
       "    <tr style=\"text-align: right;\">\n",
       "      <th></th>\n",
       "      <th>name</th>\n",
       "      <th>city</th>\n",
       "      <th>age</th>\n",
       "      <th>py-score</th>\n",
       "      <th>total-score</th>\n",
       "    </tr>\n",
       "  </thead>\n",
       "  <tbody>\n",
       "    <tr>\n",
       "      <th>10</th>\n",
       "      <td>Xavier</td>\n",
       "      <td>Mexico City</td>\n",
       "      <td>41</td>\n",
       "      <td>88.0</td>\n",
       "      <td>0.0</td>\n",
       "    </tr>\n",
       "    <tr>\n",
       "      <th>11</th>\n",
       "      <td>Ann</td>\n",
       "      <td>Toronto</td>\n",
       "      <td>28</td>\n",
       "      <td>79.0</td>\n",
       "      <td>0.0</td>\n",
       "    </tr>\n",
       "    <tr>\n",
       "      <th>12</th>\n",
       "      <td>Jana</td>\n",
       "      <td>Prague</td>\n",
       "      <td>33</td>\n",
       "      <td>81.0</td>\n",
       "      <td>0.0</td>\n",
       "    </tr>\n",
       "    <tr>\n",
       "      <th>13</th>\n",
       "      <td>Yi</td>\n",
       "      <td>Shanghai</td>\n",
       "      <td>34</td>\n",
       "      <td>80.0</td>\n",
       "      <td>0.0</td>\n",
       "    </tr>\n",
       "    <tr>\n",
       "      <th>14</th>\n",
       "      <td>Robin</td>\n",
       "      <td>Manchester</td>\n",
       "      <td>38</td>\n",
       "      <td>68.0</td>\n",
       "      <td>0.0</td>\n",
       "    </tr>\n",
       "    <tr>\n",
       "      <th>15</th>\n",
       "      <td>Amal</td>\n",
       "      <td>Cairo</td>\n",
       "      <td>31</td>\n",
       "      <td>61.0</td>\n",
       "      <td>0.0</td>\n",
       "    </tr>\n",
       "    <tr>\n",
       "      <th>16</th>\n",
       "      <td>Nori</td>\n",
       "      <td>Osaka</td>\n",
       "      <td>37</td>\n",
       "      <td>84.0</td>\n",
       "      <td>0.0</td>\n",
       "    </tr>\n",
       "  </tbody>\n",
       "</table>\n",
       "</div>"
      ],
      "text/plain": [
       "      name         city  age  py-score  total-score\n",
       "10  Xavier  Mexico City   41      88.0          0.0\n",
       "11     Ann      Toronto   28      79.0          0.0\n",
       "12    Jana       Prague   33      81.0          0.0\n",
       "13      Yi     Shanghai   34      80.0          0.0\n",
       "14   Robin   Manchester   38      68.0          0.0\n",
       "15    Amal        Cairo   31      61.0          0.0\n",
       "16    Nori        Osaka   37      84.0          0.0"
      ]
     },
     "execution_count": 45,
     "metadata": {},
     "output_type": "execute_result"
    }
   ],
   "source": [
    "# easy way to add column but it will add the column to end of the dataframe\n",
    "\n",
    "df['total-score'] = 0.0\n",
    "df"
   ]
  },
  {
   "cell_type": "code",
   "execution_count": 46,
   "id": "2f089839",
   "metadata": {},
   "outputs": [
    {
     "data": {
      "text/html": [
       "<div>\n",
       "<style scoped>\n",
       "    .dataframe tbody tr th:only-of-type {\n",
       "        vertical-align: middle;\n",
       "    }\n",
       "\n",
       "    .dataframe tbody tr th {\n",
       "        vertical-align: top;\n",
       "    }\n",
       "\n",
       "    .dataframe thead th {\n",
       "        text-align: right;\n",
       "    }\n",
       "</style>\n",
       "<table border=\"1\" class=\"dataframe\">\n",
       "  <thead>\n",
       "    <tr style=\"text-align: right;\">\n",
       "      <th></th>\n",
       "      <th>name</th>\n",
       "      <th>city</th>\n",
       "      <th>age</th>\n",
       "      <th>py-score</th>\n",
       "      <th>total-score</th>\n",
       "      <th>js-score</th>\n",
       "    </tr>\n",
       "  </thead>\n",
       "  <tbody>\n",
       "    <tr>\n",
       "      <th>10</th>\n",
       "      <td>Xavier</td>\n",
       "      <td>Mexico City</td>\n",
       "      <td>41</td>\n",
       "      <td>88.0</td>\n",
       "      <td>0.0</td>\n",
       "      <td>71.0</td>\n",
       "    </tr>\n",
       "    <tr>\n",
       "      <th>11</th>\n",
       "      <td>Ann</td>\n",
       "      <td>Toronto</td>\n",
       "      <td>28</td>\n",
       "      <td>79.0</td>\n",
       "      <td>0.0</td>\n",
       "      <td>95.0</td>\n",
       "    </tr>\n",
       "    <tr>\n",
       "      <th>12</th>\n",
       "      <td>Jana</td>\n",
       "      <td>Prague</td>\n",
       "      <td>33</td>\n",
       "      <td>81.0</td>\n",
       "      <td>0.0</td>\n",
       "      <td>88.0</td>\n",
       "    </tr>\n",
       "    <tr>\n",
       "      <th>13</th>\n",
       "      <td>Yi</td>\n",
       "      <td>Shanghai</td>\n",
       "      <td>34</td>\n",
       "      <td>80.0</td>\n",
       "      <td>0.0</td>\n",
       "      <td>79.0</td>\n",
       "    </tr>\n",
       "    <tr>\n",
       "      <th>14</th>\n",
       "      <td>Robin</td>\n",
       "      <td>Manchester</td>\n",
       "      <td>38</td>\n",
       "      <td>68.0</td>\n",
       "      <td>0.0</td>\n",
       "      <td>91.0</td>\n",
       "    </tr>\n",
       "    <tr>\n",
       "      <th>15</th>\n",
       "      <td>Amal</td>\n",
       "      <td>Cairo</td>\n",
       "      <td>31</td>\n",
       "      <td>61.0</td>\n",
       "      <td>0.0</td>\n",
       "      <td>91.0</td>\n",
       "    </tr>\n",
       "    <tr>\n",
       "      <th>16</th>\n",
       "      <td>Nori</td>\n",
       "      <td>Osaka</td>\n",
       "      <td>37</td>\n",
       "      <td>84.0</td>\n",
       "      <td>0.0</td>\n",
       "      <td>80.0</td>\n",
       "    </tr>\n",
       "  </tbody>\n",
       "</table>\n",
       "</div>"
      ],
      "text/plain": [
       "      name         city  age  py-score  total-score  js-score\n",
       "10  Xavier  Mexico City   41      88.0          0.0      71.0\n",
       "11     Ann      Toronto   28      79.0          0.0      95.0\n",
       "12    Jana       Prague   33      81.0          0.0      88.0\n",
       "13      Yi     Shanghai   34      80.0          0.0      79.0\n",
       "14   Robin   Manchester   38      68.0          0.0      91.0\n",
       "15    Amal        Cairo   31      61.0          0.0      91.0\n",
       "16    Nori        Osaka   37      84.0          0.0      80.0"
      ]
     },
     "execution_count": 46,
     "metadata": {},
     "output_type": "execute_result"
    }
   ],
   "source": [
    "df['js-score'] = np.array([71.0, 95.0, 88.0, 79.0, 91.0, 91.0, 80.0])\n",
    "df"
   ]
  },
  {
   "cell_type": "code",
   "execution_count": 47,
   "id": "889eeca2",
   "metadata": {},
   "outputs": [
    {
     "data": {
      "text/html": [
       "<div>\n",
       "<style scoped>\n",
       "    .dataframe tbody tr th:only-of-type {\n",
       "        vertical-align: middle;\n",
       "    }\n",
       "\n",
       "    .dataframe tbody tr th {\n",
       "        vertical-align: top;\n",
       "    }\n",
       "\n",
       "    .dataframe thead th {\n",
       "        text-align: right;\n",
       "    }\n",
       "</style>\n",
       "<table border=\"1\" class=\"dataframe\">\n",
       "  <thead>\n",
       "    <tr style=\"text-align: right;\">\n",
       "      <th></th>\n",
       "      <th>name</th>\n",
       "      <th>city</th>\n",
       "      <th>age</th>\n",
       "      <th>py-score</th>\n",
       "      <th>django-score</th>\n",
       "      <th>total-score</th>\n",
       "      <th>js-score</th>\n",
       "    </tr>\n",
       "  </thead>\n",
       "  <tbody>\n",
       "    <tr>\n",
       "      <th>10</th>\n",
       "      <td>Xavier</td>\n",
       "      <td>Mexico City</td>\n",
       "      <td>41</td>\n",
       "      <td>88.0</td>\n",
       "      <td>86.0</td>\n",
       "      <td>0.0</td>\n",
       "      <td>71.0</td>\n",
       "    </tr>\n",
       "    <tr>\n",
       "      <th>11</th>\n",
       "      <td>Ann</td>\n",
       "      <td>Toronto</td>\n",
       "      <td>28</td>\n",
       "      <td>79.0</td>\n",
       "      <td>81.0</td>\n",
       "      <td>0.0</td>\n",
       "      <td>95.0</td>\n",
       "    </tr>\n",
       "    <tr>\n",
       "      <th>12</th>\n",
       "      <td>Jana</td>\n",
       "      <td>Prague</td>\n",
       "      <td>33</td>\n",
       "      <td>81.0</td>\n",
       "      <td>78.0</td>\n",
       "      <td>0.0</td>\n",
       "      <td>88.0</td>\n",
       "    </tr>\n",
       "    <tr>\n",
       "      <th>13</th>\n",
       "      <td>Yi</td>\n",
       "      <td>Shanghai</td>\n",
       "      <td>34</td>\n",
       "      <td>80.0</td>\n",
       "      <td>88.0</td>\n",
       "      <td>0.0</td>\n",
       "      <td>79.0</td>\n",
       "    </tr>\n",
       "    <tr>\n",
       "      <th>14</th>\n",
       "      <td>Robin</td>\n",
       "      <td>Manchester</td>\n",
       "      <td>38</td>\n",
       "      <td>68.0</td>\n",
       "      <td>74.0</td>\n",
       "      <td>0.0</td>\n",
       "      <td>91.0</td>\n",
       "    </tr>\n",
       "    <tr>\n",
       "      <th>15</th>\n",
       "      <td>Amal</td>\n",
       "      <td>Cairo</td>\n",
       "      <td>31</td>\n",
       "      <td>61.0</td>\n",
       "      <td>70.0</td>\n",
       "      <td>0.0</td>\n",
       "      <td>91.0</td>\n",
       "    </tr>\n",
       "    <tr>\n",
       "      <th>16</th>\n",
       "      <td>Nori</td>\n",
       "      <td>Osaka</td>\n",
       "      <td>37</td>\n",
       "      <td>84.0</td>\n",
       "      <td>81.0</td>\n",
       "      <td>0.0</td>\n",
       "      <td>80.0</td>\n",
       "    </tr>\n",
       "  </tbody>\n",
       "</table>\n",
       "</div>"
      ],
      "text/plain": [
       "      name         city  age  py-score  django-score  total-score  js-score\n",
       "10  Xavier  Mexico City   41      88.0          86.0          0.0      71.0\n",
       "11     Ann      Toronto   28      79.0          81.0          0.0      95.0\n",
       "12    Jana       Prague   33      81.0          78.0          0.0      88.0\n",
       "13      Yi     Shanghai   34      80.0          88.0          0.0      79.0\n",
       "14   Robin   Manchester   38      68.0          74.0          0.0      91.0\n",
       "15    Amal        Cairo   31      61.0          70.0          0.0      91.0\n",
       "16    Nori        Osaka   37      84.0          81.0          0.0      80.0"
      ]
     },
     "execution_count": 47,
     "metadata": {},
     "output_type": "execute_result"
    }
   ],
   "source": [
    "# if the location of the new column is important:\n",
    "\n",
    "df.insert(loc=4, column='django-score',\n",
    "          value=np.array([86.0, 81.0, 78.0, 88.0, 74.0, 70.0, 81.0]))\n",
    "df"
   ]
  },
  {
   "cell_type": "markdown",
   "id": "1fd6d1b7",
   "metadata": {},
   "source": [
    "#### Deleting a column: del statement"
   ]
  },
  {
   "cell_type": "code",
   "execution_count": 48,
   "id": "7531b81d",
   "metadata": {},
   "outputs": [
    {
     "data": {
      "text/html": [
       "<div>\n",
       "<style scoped>\n",
       "    .dataframe tbody tr th:only-of-type {\n",
       "        vertical-align: middle;\n",
       "    }\n",
       "\n",
       "    .dataframe tbody tr th {\n",
       "        vertical-align: top;\n",
       "    }\n",
       "\n",
       "    .dataframe thead th {\n",
       "        text-align: right;\n",
       "    }\n",
       "</style>\n",
       "<table border=\"1\" class=\"dataframe\">\n",
       "  <thead>\n",
       "    <tr style=\"text-align: right;\">\n",
       "      <th></th>\n",
       "      <th>name</th>\n",
       "      <th>city</th>\n",
       "      <th>age</th>\n",
       "      <th>py-score</th>\n",
       "      <th>django-score</th>\n",
       "      <th>js-score</th>\n",
       "    </tr>\n",
       "  </thead>\n",
       "  <tbody>\n",
       "    <tr>\n",
       "      <th>10</th>\n",
       "      <td>Xavier</td>\n",
       "      <td>Mexico City</td>\n",
       "      <td>41</td>\n",
       "      <td>88.0</td>\n",
       "      <td>86.0</td>\n",
       "      <td>71.0</td>\n",
       "    </tr>\n",
       "    <tr>\n",
       "      <th>11</th>\n",
       "      <td>Ann</td>\n",
       "      <td>Toronto</td>\n",
       "      <td>28</td>\n",
       "      <td>79.0</td>\n",
       "      <td>81.0</td>\n",
       "      <td>95.0</td>\n",
       "    </tr>\n",
       "    <tr>\n",
       "      <th>12</th>\n",
       "      <td>Jana</td>\n",
       "      <td>Prague</td>\n",
       "      <td>33</td>\n",
       "      <td>81.0</td>\n",
       "      <td>78.0</td>\n",
       "      <td>88.0</td>\n",
       "    </tr>\n",
       "    <tr>\n",
       "      <th>13</th>\n",
       "      <td>Yi</td>\n",
       "      <td>Shanghai</td>\n",
       "      <td>34</td>\n",
       "      <td>80.0</td>\n",
       "      <td>88.0</td>\n",
       "      <td>79.0</td>\n",
       "    </tr>\n",
       "    <tr>\n",
       "      <th>14</th>\n",
       "      <td>Robin</td>\n",
       "      <td>Manchester</td>\n",
       "      <td>38</td>\n",
       "      <td>68.0</td>\n",
       "      <td>74.0</td>\n",
       "      <td>91.0</td>\n",
       "    </tr>\n",
       "    <tr>\n",
       "      <th>15</th>\n",
       "      <td>Amal</td>\n",
       "      <td>Cairo</td>\n",
       "      <td>31</td>\n",
       "      <td>61.0</td>\n",
       "      <td>70.0</td>\n",
       "      <td>91.0</td>\n",
       "    </tr>\n",
       "    <tr>\n",
       "      <th>16</th>\n",
       "      <td>Nori</td>\n",
       "      <td>Osaka</td>\n",
       "      <td>37</td>\n",
       "      <td>84.0</td>\n",
       "      <td>81.0</td>\n",
       "      <td>80.0</td>\n",
       "    </tr>\n",
       "  </tbody>\n",
       "</table>\n",
       "</div>"
      ],
      "text/plain": [
       "      name         city  age  py-score  django-score  js-score\n",
       "10  Xavier  Mexico City   41      88.0          86.0      71.0\n",
       "11     Ann      Toronto   28      79.0          81.0      95.0\n",
       "12    Jana       Prague   33      81.0          78.0      88.0\n",
       "13      Yi     Shanghai   34      80.0          88.0      79.0\n",
       "14   Robin   Manchester   38      68.0          74.0      91.0\n",
       "15    Amal        Cairo   31      61.0          70.0      91.0\n",
       "16    Nori        Osaka   37      84.0          81.0      80.0"
      ]
     },
     "execution_count": 48,
     "metadata": {},
     "output_type": "execute_result"
    }
   ],
   "source": [
    "del df['total-score']\n",
    "df"
   ]
  },
  {
   "cell_type": "markdown",
   "id": "908adcc7",
   "metadata": {},
   "source": [
    "#### Deleting a column: .pop ( ) method"
   ]
  },
  {
   "cell_type": "code",
   "execution_count": 49,
   "id": "49ff6f4a",
   "metadata": {},
   "outputs": [],
   "source": [
    "# Another similarity to dictionaries is the ability to use .pop(), which removes the specified column and returns it. \n",
    "# That means you could do something like df.pop('total-score') instead of using del."
   ]
  },
  {
   "cell_type": "markdown",
   "id": "eb1c3d7f",
   "metadata": {},
   "source": [
    "#### Deleting a column .drop ( ) method"
   ]
  },
  {
   "cell_type": "code",
   "execution_count": 50,
   "id": "25c11a38",
   "metadata": {},
   "outputs": [
    {
     "data": {
      "text/html": [
       "<div>\n",
       "<style scoped>\n",
       "    .dataframe tbody tr th:only-of-type {\n",
       "        vertical-align: middle;\n",
       "    }\n",
       "\n",
       "    .dataframe tbody tr th {\n",
       "        vertical-align: top;\n",
       "    }\n",
       "\n",
       "    .dataframe thead th {\n",
       "        text-align: right;\n",
       "    }\n",
       "</style>\n",
       "<table border=\"1\" class=\"dataframe\">\n",
       "  <thead>\n",
       "    <tr style=\"text-align: right;\">\n",
       "      <th></th>\n",
       "      <th>name</th>\n",
       "      <th>city</th>\n",
       "      <th>py-score</th>\n",
       "      <th>django-score</th>\n",
       "      <th>js-score</th>\n",
       "    </tr>\n",
       "  </thead>\n",
       "  <tbody>\n",
       "    <tr>\n",
       "      <th>10</th>\n",
       "      <td>Xavier</td>\n",
       "      <td>Mexico City</td>\n",
       "      <td>88.0</td>\n",
       "      <td>86.0</td>\n",
       "      <td>71.0</td>\n",
       "    </tr>\n",
       "    <tr>\n",
       "      <th>11</th>\n",
       "      <td>Ann</td>\n",
       "      <td>Toronto</td>\n",
       "      <td>79.0</td>\n",
       "      <td>81.0</td>\n",
       "      <td>95.0</td>\n",
       "    </tr>\n",
       "    <tr>\n",
       "      <th>12</th>\n",
       "      <td>Jana</td>\n",
       "      <td>Prague</td>\n",
       "      <td>81.0</td>\n",
       "      <td>78.0</td>\n",
       "      <td>88.0</td>\n",
       "    </tr>\n",
       "    <tr>\n",
       "      <th>13</th>\n",
       "      <td>Yi</td>\n",
       "      <td>Shanghai</td>\n",
       "      <td>80.0</td>\n",
       "      <td>88.0</td>\n",
       "      <td>79.0</td>\n",
       "    </tr>\n",
       "    <tr>\n",
       "      <th>14</th>\n",
       "      <td>Robin</td>\n",
       "      <td>Manchester</td>\n",
       "      <td>68.0</td>\n",
       "      <td>74.0</td>\n",
       "      <td>91.0</td>\n",
       "    </tr>\n",
       "    <tr>\n",
       "      <th>15</th>\n",
       "      <td>Amal</td>\n",
       "      <td>Cairo</td>\n",
       "      <td>61.0</td>\n",
       "      <td>70.0</td>\n",
       "      <td>91.0</td>\n",
       "    </tr>\n",
       "    <tr>\n",
       "      <th>16</th>\n",
       "      <td>Nori</td>\n",
       "      <td>Osaka</td>\n",
       "      <td>84.0</td>\n",
       "      <td>81.0</td>\n",
       "      <td>80.0</td>\n",
       "    </tr>\n",
       "  </tbody>\n",
       "</table>\n",
       "</div>"
      ],
      "text/plain": [
       "      name         city  py-score  django-score  js-score\n",
       "10  Xavier  Mexico City      88.0          86.0      71.0\n",
       "11     Ann      Toronto      79.0          81.0      95.0\n",
       "12    Jana       Prague      81.0          78.0      88.0\n",
       "13      Yi     Shanghai      80.0          88.0      79.0\n",
       "14   Robin   Manchester      68.0          74.0      91.0\n",
       "15    Amal        Cairo      61.0          70.0      91.0\n",
       "16    Nori        Osaka      84.0          81.0      80.0"
      ]
     },
     "execution_count": 50,
     "metadata": {},
     "output_type": "execute_result"
    }
   ],
   "source": [
    "# You can also remove one or more columns with .drop() as you did previously with the rows. \n",
    "# Again, you need to specify the labels of the desired columns with labels. \n",
    "# In addition, when you want to remove columns, you need to provide the argument axis=1:\n",
    "# By default, .drop() returns the DataFrame without the specified columns unless you pass inplace=True.\n",
    "\n",
    "df = df.drop(labels='age', axis=1)\n",
    "df"
   ]
  },
  {
   "cell_type": "markdown",
   "id": "f5e5db95",
   "metadata": {},
   "source": [
    "## Arithmetic Operations\n",
    "#### Basic operations"
   ]
  },
  {
   "cell_type": "code",
   "execution_count": 51,
   "id": "cea1eb99",
   "metadata": {},
   "outputs": [
    {
     "data": {
      "text/plain": [
       "10    159.0\n",
       "11    174.0\n",
       "12    169.0\n",
       "13    159.0\n",
       "14    159.0\n",
       "15    152.0\n",
       "16    164.0\n",
       "dtype: float64"
      ]
     },
     "execution_count": 51,
     "metadata": {},
     "output_type": "execute_result"
    }
   ],
   "source": [
    "df['py-score'] + df['js-score']"
   ]
  },
  {
   "cell_type": "code",
   "execution_count": 52,
   "id": "acbe4f84",
   "metadata": {},
   "outputs": [
    {
     "data": {
      "text/plain": [
       "10    0.88\n",
       "11    0.79\n",
       "12    0.81\n",
       "13    0.80\n",
       "14    0.68\n",
       "15    0.61\n",
       "16    0.84\n",
       "Name: py-score, dtype: float64"
      ]
     },
     "execution_count": 52,
     "metadata": {},
     "output_type": "execute_result"
    }
   ],
   "source": [
    "df['py-score'] / 100"
   ]
  },
  {
   "cell_type": "code",
   "execution_count": 53,
   "id": "46a6cc3b",
   "metadata": {},
   "outputs": [
    {
     "data": {
      "text/html": [
       "<div>\n",
       "<style scoped>\n",
       "    .dataframe tbody tr th:only-of-type {\n",
       "        vertical-align: middle;\n",
       "    }\n",
       "\n",
       "    .dataframe tbody tr th {\n",
       "        vertical-align: top;\n",
       "    }\n",
       "\n",
       "    .dataframe thead th {\n",
       "        text-align: right;\n",
       "    }\n",
       "</style>\n",
       "<table border=\"1\" class=\"dataframe\">\n",
       "  <thead>\n",
       "    <tr style=\"text-align: right;\">\n",
       "      <th></th>\n",
       "      <th>name</th>\n",
       "      <th>city</th>\n",
       "      <th>py-score</th>\n",
       "      <th>django-score</th>\n",
       "      <th>js-score</th>\n",
       "      <th>total</th>\n",
       "    </tr>\n",
       "  </thead>\n",
       "  <tbody>\n",
       "    <tr>\n",
       "      <th>10</th>\n",
       "      <td>Xavier</td>\n",
       "      <td>Mexico City</td>\n",
       "      <td>88.0</td>\n",
       "      <td>86.0</td>\n",
       "      <td>71.0</td>\n",
       "      <td>82.3</td>\n",
       "    </tr>\n",
       "    <tr>\n",
       "      <th>11</th>\n",
       "      <td>Ann</td>\n",
       "      <td>Toronto</td>\n",
       "      <td>79.0</td>\n",
       "      <td>81.0</td>\n",
       "      <td>95.0</td>\n",
       "      <td>84.4</td>\n",
       "    </tr>\n",
       "    <tr>\n",
       "      <th>12</th>\n",
       "      <td>Jana</td>\n",
       "      <td>Prague</td>\n",
       "      <td>81.0</td>\n",
       "      <td>78.0</td>\n",
       "      <td>88.0</td>\n",
       "      <td>82.2</td>\n",
       "    </tr>\n",
       "    <tr>\n",
       "      <th>13</th>\n",
       "      <td>Yi</td>\n",
       "      <td>Shanghai</td>\n",
       "      <td>80.0</td>\n",
       "      <td>88.0</td>\n",
       "      <td>79.0</td>\n",
       "      <td>82.1</td>\n",
       "    </tr>\n",
       "    <tr>\n",
       "      <th>14</th>\n",
       "      <td>Robin</td>\n",
       "      <td>Manchester</td>\n",
       "      <td>68.0</td>\n",
       "      <td>74.0</td>\n",
       "      <td>91.0</td>\n",
       "      <td>76.7</td>\n",
       "    </tr>\n",
       "    <tr>\n",
       "      <th>15</th>\n",
       "      <td>Amal</td>\n",
       "      <td>Cairo</td>\n",
       "      <td>61.0</td>\n",
       "      <td>70.0</td>\n",
       "      <td>91.0</td>\n",
       "      <td>72.7</td>\n",
       "    </tr>\n",
       "    <tr>\n",
       "      <th>16</th>\n",
       "      <td>Nori</td>\n",
       "      <td>Osaka</td>\n",
       "      <td>84.0</td>\n",
       "      <td>81.0</td>\n",
       "      <td>80.0</td>\n",
       "      <td>81.9</td>\n",
       "    </tr>\n",
       "  </tbody>\n",
       "</table>\n",
       "</div>"
      ],
      "text/plain": [
       "      name         city  py-score  django-score  js-score  total\n",
       "10  Xavier  Mexico City      88.0          86.0      71.0   82.3\n",
       "11     Ann      Toronto      79.0          81.0      95.0   84.4\n",
       "12    Jana       Prague      81.0          78.0      88.0   82.2\n",
       "13      Yi     Shanghai      80.0          88.0      79.0   82.1\n",
       "14   Robin   Manchester      68.0          74.0      91.0   76.7\n",
       "15    Amal        Cairo      61.0          70.0      91.0   72.7\n",
       "16    Nori        Osaka      84.0          81.0      80.0   81.9"
      ]
     },
     "execution_count": 53,
     "metadata": {},
     "output_type": "execute_result"
    }
   ],
   "source": [
    "# we can use these to add new column to our dataframe\n",
    "\n",
    "df['total'] = 0.4 * df['py-score'] + 0.3 * df['django-score'] + 0.3 * df['js-score']\n",
    "df"
   ]
  },
  {
   "cell_type": "markdown",
   "id": "a2d7a36f",
   "metadata": {},
   "source": [
    "## Applying Numpy and Scipy Functions"
   ]
  },
  {
   "cell_type": "code",
   "execution_count": 54,
   "id": "30d555c8",
   "metadata": {},
   "outputs": [
    {
     "data": {
      "text/html": [
       "<div>\n",
       "<style scoped>\n",
       "    .dataframe tbody tr th:only-of-type {\n",
       "        vertical-align: middle;\n",
       "    }\n",
       "\n",
       "    .dataframe tbody tr th {\n",
       "        vertical-align: top;\n",
       "    }\n",
       "\n",
       "    .dataframe thead th {\n",
       "        text-align: right;\n",
       "    }\n",
       "</style>\n",
       "<table border=\"1\" class=\"dataframe\">\n",
       "  <thead>\n",
       "    <tr style=\"text-align: right;\">\n",
       "      <th></th>\n",
       "      <th>py-score</th>\n",
       "      <th>django-score</th>\n",
       "      <th>js-score</th>\n",
       "    </tr>\n",
       "  </thead>\n",
       "  <tbody>\n",
       "    <tr>\n",
       "      <th>10</th>\n",
       "      <td>88.0</td>\n",
       "      <td>86.0</td>\n",
       "      <td>71.0</td>\n",
       "    </tr>\n",
       "    <tr>\n",
       "      <th>11</th>\n",
       "      <td>79.0</td>\n",
       "      <td>81.0</td>\n",
       "      <td>95.0</td>\n",
       "    </tr>\n",
       "    <tr>\n",
       "      <th>12</th>\n",
       "      <td>81.0</td>\n",
       "      <td>78.0</td>\n",
       "      <td>88.0</td>\n",
       "    </tr>\n",
       "    <tr>\n",
       "      <th>13</th>\n",
       "      <td>80.0</td>\n",
       "      <td>88.0</td>\n",
       "      <td>79.0</td>\n",
       "    </tr>\n",
       "    <tr>\n",
       "      <th>14</th>\n",
       "      <td>68.0</td>\n",
       "      <td>74.0</td>\n",
       "      <td>91.0</td>\n",
       "    </tr>\n",
       "    <tr>\n",
       "      <th>15</th>\n",
       "      <td>61.0</td>\n",
       "      <td>70.0</td>\n",
       "      <td>91.0</td>\n",
       "    </tr>\n",
       "    <tr>\n",
       "      <th>16</th>\n",
       "      <td>84.0</td>\n",
       "      <td>81.0</td>\n",
       "      <td>80.0</td>\n",
       "    </tr>\n",
       "  </tbody>\n",
       "</table>\n",
       "</div>"
      ],
      "text/plain": [
       "    py-score  django-score  js-score\n",
       "10      88.0          86.0      71.0\n",
       "11      79.0          81.0      95.0\n",
       "12      81.0          78.0      88.0\n",
       "13      80.0          88.0      79.0\n",
       "14      68.0          74.0      91.0\n",
       "15      61.0          70.0      91.0\n",
       "16      84.0          81.0      80.0"
      ]
     },
     "execution_count": 54,
     "metadata": {},
     "output_type": "execute_result"
    }
   ],
   "source": [
    "# Instead of passing a NumPy array to numpy.average(), you’ll pass a part of your pandas DataFrame:\n",
    "\n",
    "score = df.iloc[:, 2:5]\n",
    "score"
   ]
  },
  {
   "cell_type": "code",
   "execution_count": 55,
   "id": "a9b3bf3e",
   "metadata": {},
   "outputs": [
    {
     "data": {
      "text/plain": [
       "array([82.3, 84.4, 82.2, 82.1, 76.7, 72.7, 81.9])"
      ]
     },
     "execution_count": 55,
     "metadata": {},
     "output_type": "execute_result"
    }
   ],
   "source": [
    "np.average(score, axis=1, weights=[0.4, 0.3, 0.3])"
   ]
  },
  {
   "cell_type": "code",
   "execution_count": 56,
   "id": "357a1039",
   "metadata": {},
   "outputs": [],
   "source": [
    "# The variable score now refers to the DataFrame with the Python, Django, and JavaScript scores. \n",
    "# You can use score as an argument of numpy.average() and get the linear combination of columns with the specified weights."
   ]
  },
  {
   "cell_type": "code",
   "execution_count": 57,
   "id": "ec08ea45",
   "metadata": {},
   "outputs": [
    {
     "data": {
      "text/html": [
       "<div>\n",
       "<style scoped>\n",
       "    .dataframe tbody tr th:only-of-type {\n",
       "        vertical-align: middle;\n",
       "    }\n",
       "\n",
       "    .dataframe tbody tr th {\n",
       "        vertical-align: top;\n",
       "    }\n",
       "\n",
       "    .dataframe thead th {\n",
       "        text-align: right;\n",
       "    }\n",
       "</style>\n",
       "<table border=\"1\" class=\"dataframe\">\n",
       "  <thead>\n",
       "    <tr style=\"text-align: right;\">\n",
       "      <th></th>\n",
       "      <th>name</th>\n",
       "      <th>city</th>\n",
       "      <th>py-score</th>\n",
       "      <th>django-score</th>\n",
       "      <th>js-score</th>\n",
       "      <th>total</th>\n",
       "    </tr>\n",
       "  </thead>\n",
       "  <tbody>\n",
       "    <tr>\n",
       "      <th>10</th>\n",
       "      <td>Xavier</td>\n",
       "      <td>Mexico City</td>\n",
       "      <td>88.0</td>\n",
       "      <td>86.0</td>\n",
       "      <td>71.0</td>\n",
       "      <td>82.3</td>\n",
       "    </tr>\n",
       "    <tr>\n",
       "      <th>11</th>\n",
       "      <td>Ann</td>\n",
       "      <td>Toronto</td>\n",
       "      <td>79.0</td>\n",
       "      <td>81.0</td>\n",
       "      <td>95.0</td>\n",
       "      <td>84.4</td>\n",
       "    </tr>\n",
       "    <tr>\n",
       "      <th>12</th>\n",
       "      <td>Jana</td>\n",
       "      <td>Prague</td>\n",
       "      <td>81.0</td>\n",
       "      <td>78.0</td>\n",
       "      <td>88.0</td>\n",
       "      <td>82.2</td>\n",
       "    </tr>\n",
       "    <tr>\n",
       "      <th>13</th>\n",
       "      <td>Yi</td>\n",
       "      <td>Shanghai</td>\n",
       "      <td>80.0</td>\n",
       "      <td>88.0</td>\n",
       "      <td>79.0</td>\n",
       "      <td>82.1</td>\n",
       "    </tr>\n",
       "    <tr>\n",
       "      <th>14</th>\n",
       "      <td>Robin</td>\n",
       "      <td>Manchester</td>\n",
       "      <td>68.0</td>\n",
       "      <td>74.0</td>\n",
       "      <td>91.0</td>\n",
       "      <td>76.7</td>\n",
       "    </tr>\n",
       "    <tr>\n",
       "      <th>15</th>\n",
       "      <td>Amal</td>\n",
       "      <td>Cairo</td>\n",
       "      <td>61.0</td>\n",
       "      <td>70.0</td>\n",
       "      <td>91.0</td>\n",
       "      <td>72.7</td>\n",
       "    </tr>\n",
       "    <tr>\n",
       "      <th>16</th>\n",
       "      <td>Nori</td>\n",
       "      <td>Osaka</td>\n",
       "      <td>84.0</td>\n",
       "      <td>81.0</td>\n",
       "      <td>80.0</td>\n",
       "      <td>81.9</td>\n",
       "    </tr>\n",
       "  </tbody>\n",
       "</table>\n",
       "</div>"
      ],
      "text/plain": [
       "      name         city  py-score  django-score  js-score  total\n",
       "10  Xavier  Mexico City      88.0          86.0      71.0   82.3\n",
       "11     Ann      Toronto      79.0          81.0      95.0   84.4\n",
       "12    Jana       Prague      81.0          78.0      88.0   82.2\n",
       "13      Yi     Shanghai      80.0          88.0      79.0   82.1\n",
       "14   Robin   Manchester      68.0          74.0      91.0   76.7\n",
       "15    Amal        Cairo      61.0          70.0      91.0   72.7\n",
       "16    Nori        Osaka      84.0          81.0      80.0   81.9"
      ]
     },
     "execution_count": 57,
     "metadata": {},
     "output_type": "execute_result"
    }
   ],
   "source": [
    "# we can do all operations above as a single statement but first need to delete existing \"total\" column\n",
    "\n",
    "del df[\"total\"]\n",
    "\n",
    "df['total'] = np.average(df.iloc[:, 2:5], axis=1, weights=[0.4, 0.3, 0.3])\n",
    "df\n"
   ]
  },
  {
   "cell_type": "markdown",
   "id": "3e41750c",
   "metadata": {},
   "source": [
    "## Sorting DataFrame .sort_values ( )"
   ]
  },
  {
   "cell_type": "code",
   "execution_count": 58,
   "id": "7d63879b",
   "metadata": {},
   "outputs": [
    {
     "data": {
      "text/html": [
       "<div>\n",
       "<style scoped>\n",
       "    .dataframe tbody tr th:only-of-type {\n",
       "        vertical-align: middle;\n",
       "    }\n",
       "\n",
       "    .dataframe tbody tr th {\n",
       "        vertical-align: top;\n",
       "    }\n",
       "\n",
       "    .dataframe thead th {\n",
       "        text-align: right;\n",
       "    }\n",
       "</style>\n",
       "<table border=\"1\" class=\"dataframe\">\n",
       "  <thead>\n",
       "    <tr style=\"text-align: right;\">\n",
       "      <th></th>\n",
       "      <th>name</th>\n",
       "      <th>city</th>\n",
       "      <th>py-score</th>\n",
       "      <th>django-score</th>\n",
       "      <th>js-score</th>\n",
       "      <th>total</th>\n",
       "    </tr>\n",
       "  </thead>\n",
       "  <tbody>\n",
       "    <tr>\n",
       "      <th>11</th>\n",
       "      <td>Ann</td>\n",
       "      <td>Toronto</td>\n",
       "      <td>79.0</td>\n",
       "      <td>81.0</td>\n",
       "      <td>95.0</td>\n",
       "      <td>84.4</td>\n",
       "    </tr>\n",
       "    <tr>\n",
       "      <th>14</th>\n",
       "      <td>Robin</td>\n",
       "      <td>Manchester</td>\n",
       "      <td>68.0</td>\n",
       "      <td>74.0</td>\n",
       "      <td>91.0</td>\n",
       "      <td>76.7</td>\n",
       "    </tr>\n",
       "    <tr>\n",
       "      <th>15</th>\n",
       "      <td>Amal</td>\n",
       "      <td>Cairo</td>\n",
       "      <td>61.0</td>\n",
       "      <td>70.0</td>\n",
       "      <td>91.0</td>\n",
       "      <td>72.7</td>\n",
       "    </tr>\n",
       "    <tr>\n",
       "      <th>12</th>\n",
       "      <td>Jana</td>\n",
       "      <td>Prague</td>\n",
       "      <td>81.0</td>\n",
       "      <td>78.0</td>\n",
       "      <td>88.0</td>\n",
       "      <td>82.2</td>\n",
       "    </tr>\n",
       "    <tr>\n",
       "      <th>16</th>\n",
       "      <td>Nori</td>\n",
       "      <td>Osaka</td>\n",
       "      <td>84.0</td>\n",
       "      <td>81.0</td>\n",
       "      <td>80.0</td>\n",
       "      <td>81.9</td>\n",
       "    </tr>\n",
       "    <tr>\n",
       "      <th>13</th>\n",
       "      <td>Yi</td>\n",
       "      <td>Shanghai</td>\n",
       "      <td>80.0</td>\n",
       "      <td>88.0</td>\n",
       "      <td>79.0</td>\n",
       "      <td>82.1</td>\n",
       "    </tr>\n",
       "    <tr>\n",
       "      <th>10</th>\n",
       "      <td>Xavier</td>\n",
       "      <td>Mexico City</td>\n",
       "      <td>88.0</td>\n",
       "      <td>86.0</td>\n",
       "      <td>71.0</td>\n",
       "      <td>82.3</td>\n",
       "    </tr>\n",
       "  </tbody>\n",
       "</table>\n",
       "</div>"
      ],
      "text/plain": [
       "      name         city  py-score  django-score  js-score  total\n",
       "11     Ann      Toronto      79.0          81.0      95.0   84.4\n",
       "14   Robin   Manchester      68.0          74.0      91.0   76.7\n",
       "15    Amal        Cairo      61.0          70.0      91.0   72.7\n",
       "12    Jana       Prague      81.0          78.0      88.0   82.2\n",
       "16    Nori        Osaka      84.0          81.0      80.0   81.9\n",
       "13      Yi     Shanghai      80.0          88.0      79.0   82.1\n",
       "10  Xavier  Mexico City      88.0          86.0      71.0   82.3"
      ]
     },
     "execution_count": 58,
     "metadata": {},
     "output_type": "execute_result"
    }
   ],
   "source": [
    "# this example sorts dataframe by values in column \"js_score\" in descending order\n",
    "df.sort_values(by='js-score', ascending=False)"
   ]
  },
  {
   "cell_type": "code",
   "execution_count": 59,
   "id": "0837d838",
   "metadata": {},
   "outputs": [],
   "source": [
    "# You can pass axis to choose if you want to sort rows (axis=0) or columns (axis=1)."
   ]
  },
  {
   "cell_type": "code",
   "execution_count": 60,
   "id": "fb3ac931",
   "metadata": {},
   "outputs": [
    {
     "data": {
      "text/html": [
       "<div>\n",
       "<style scoped>\n",
       "    .dataframe tbody tr th:only-of-type {\n",
       "        vertical-align: middle;\n",
       "    }\n",
       "\n",
       "    .dataframe tbody tr th {\n",
       "        vertical-align: top;\n",
       "    }\n",
       "\n",
       "    .dataframe thead th {\n",
       "        text-align: right;\n",
       "    }\n",
       "</style>\n",
       "<table border=\"1\" class=\"dataframe\">\n",
       "  <thead>\n",
       "    <tr style=\"text-align: right;\">\n",
       "      <th></th>\n",
       "      <th>name</th>\n",
       "      <th>city</th>\n",
       "      <th>py-score</th>\n",
       "      <th>django-score</th>\n",
       "      <th>js-score</th>\n",
       "      <th>total</th>\n",
       "    </tr>\n",
       "  </thead>\n",
       "  <tbody>\n",
       "    <tr>\n",
       "      <th>11</th>\n",
       "      <td>Ann</td>\n",
       "      <td>Toronto</td>\n",
       "      <td>79.0</td>\n",
       "      <td>81.0</td>\n",
       "      <td>95.0</td>\n",
       "      <td>84.4</td>\n",
       "    </tr>\n",
       "    <tr>\n",
       "      <th>10</th>\n",
       "      <td>Xavier</td>\n",
       "      <td>Mexico City</td>\n",
       "      <td>88.0</td>\n",
       "      <td>86.0</td>\n",
       "      <td>71.0</td>\n",
       "      <td>82.3</td>\n",
       "    </tr>\n",
       "    <tr>\n",
       "      <th>12</th>\n",
       "      <td>Jana</td>\n",
       "      <td>Prague</td>\n",
       "      <td>81.0</td>\n",
       "      <td>78.0</td>\n",
       "      <td>88.0</td>\n",
       "      <td>82.2</td>\n",
       "    </tr>\n",
       "    <tr>\n",
       "      <th>13</th>\n",
       "      <td>Yi</td>\n",
       "      <td>Shanghai</td>\n",
       "      <td>80.0</td>\n",
       "      <td>88.0</td>\n",
       "      <td>79.0</td>\n",
       "      <td>82.1</td>\n",
       "    </tr>\n",
       "    <tr>\n",
       "      <th>16</th>\n",
       "      <td>Nori</td>\n",
       "      <td>Osaka</td>\n",
       "      <td>84.0</td>\n",
       "      <td>81.0</td>\n",
       "      <td>80.0</td>\n",
       "      <td>81.9</td>\n",
       "    </tr>\n",
       "    <tr>\n",
       "      <th>14</th>\n",
       "      <td>Robin</td>\n",
       "      <td>Manchester</td>\n",
       "      <td>68.0</td>\n",
       "      <td>74.0</td>\n",
       "      <td>91.0</td>\n",
       "      <td>76.7</td>\n",
       "    </tr>\n",
       "    <tr>\n",
       "      <th>15</th>\n",
       "      <td>Amal</td>\n",
       "      <td>Cairo</td>\n",
       "      <td>61.0</td>\n",
       "      <td>70.0</td>\n",
       "      <td>91.0</td>\n",
       "      <td>72.7</td>\n",
       "    </tr>\n",
       "  </tbody>\n",
       "</table>\n",
       "</div>"
      ],
      "text/plain": [
       "      name         city  py-score  django-score  js-score  total\n",
       "11     Ann      Toronto      79.0          81.0      95.0   84.4\n",
       "10  Xavier  Mexico City      88.0          86.0      71.0   82.3\n",
       "12    Jana       Prague      81.0          78.0      88.0   82.2\n",
       "13      Yi     Shanghai      80.0          88.0      79.0   82.1\n",
       "16    Nori        Osaka      84.0          81.0      80.0   81.9\n",
       "14   Robin   Manchester      68.0          74.0      91.0   76.7\n",
       "15    Amal        Cairo      61.0          70.0      91.0   72.7"
      ]
     },
     "execution_count": 60,
     "metadata": {},
     "output_type": "execute_result"
    }
   ],
   "source": [
    "# if we want to sort by multiple columns\n",
    "# In this case, the DataFrame is sorted by the column total, but if two values are the same, then their order is determined by the values from the column py-score.\n",
    "\n",
    "df.sort_values(by=['total', 'py-score'], ascending=[False, False])"
   ]
  },
  {
   "cell_type": "code",
   "execution_count": 61,
   "id": "1c86a6d3",
   "metadata": {},
   "outputs": [],
   "source": [
    "# .sort_values() has options inplace parameter. It’s set to False by default, ensuring .sort_values() returns a new pandas DataFrame. \n",
    "# When you set inplace=True, the existing DataFrame will be modified and .sort_values() will return None."
   ]
  },
  {
   "cell_type": "markdown",
   "id": "59cca9ac",
   "metadata": {},
   "source": [
    "## Filtering Data"
   ]
  },
  {
   "cell_type": "code",
   "execution_count": 62,
   "id": "de2cbb66",
   "metadata": {},
   "outputs": [],
   "source": [
    "# If you apply some logical operation on a Series object, then you’ll get another Series with the Boolean values True and False:\n"
   ]
  },
  {
   "cell_type": "code",
   "execution_count": 63,
   "id": "9f9008cf",
   "metadata": {},
   "outputs": [
    {
     "data": {
      "text/plain": [
       "10     True\n",
       "11     True\n",
       "12    False\n",
       "13     True\n",
       "14    False\n",
       "15    False\n",
       "16     True\n",
       "Name: django-score, dtype: bool"
      ]
     },
     "execution_count": 63,
     "metadata": {},
     "output_type": "execute_result"
    }
   ],
   "source": [
    "filter_ = df['django-score'] >= 80\n",
    "filter_"
   ]
  },
  {
   "cell_type": "code",
   "execution_count": 64,
   "id": "4260c441",
   "metadata": {},
   "outputs": [
    {
     "data": {
      "text/html": [
       "<div>\n",
       "<style scoped>\n",
       "    .dataframe tbody tr th:only-of-type {\n",
       "        vertical-align: middle;\n",
       "    }\n",
       "\n",
       "    .dataframe tbody tr th {\n",
       "        vertical-align: top;\n",
       "    }\n",
       "\n",
       "    .dataframe thead th {\n",
       "        text-align: right;\n",
       "    }\n",
       "</style>\n",
       "<table border=\"1\" class=\"dataframe\">\n",
       "  <thead>\n",
       "    <tr style=\"text-align: right;\">\n",
       "      <th></th>\n",
       "      <th>name</th>\n",
       "      <th>city</th>\n",
       "      <th>py-score</th>\n",
       "      <th>django-score</th>\n",
       "      <th>js-score</th>\n",
       "      <th>total</th>\n",
       "    </tr>\n",
       "  </thead>\n",
       "  <tbody>\n",
       "    <tr>\n",
       "      <th>10</th>\n",
       "      <td>Xavier</td>\n",
       "      <td>Mexico City</td>\n",
       "      <td>88.0</td>\n",
       "      <td>86.0</td>\n",
       "      <td>71.0</td>\n",
       "      <td>82.3</td>\n",
       "    </tr>\n",
       "    <tr>\n",
       "      <th>11</th>\n",
       "      <td>Ann</td>\n",
       "      <td>Toronto</td>\n",
       "      <td>79.0</td>\n",
       "      <td>81.0</td>\n",
       "      <td>95.0</td>\n",
       "      <td>84.4</td>\n",
       "    </tr>\n",
       "    <tr>\n",
       "      <th>13</th>\n",
       "      <td>Yi</td>\n",
       "      <td>Shanghai</td>\n",
       "      <td>80.0</td>\n",
       "      <td>88.0</td>\n",
       "      <td>79.0</td>\n",
       "      <td>82.1</td>\n",
       "    </tr>\n",
       "    <tr>\n",
       "      <th>16</th>\n",
       "      <td>Nori</td>\n",
       "      <td>Osaka</td>\n",
       "      <td>84.0</td>\n",
       "      <td>81.0</td>\n",
       "      <td>80.0</td>\n",
       "      <td>81.9</td>\n",
       "    </tr>\n",
       "  </tbody>\n",
       "</table>\n",
       "</div>"
      ],
      "text/plain": [
       "      name         city  py-score  django-score  js-score  total\n",
       "10  Xavier  Mexico City      88.0          86.0      71.0   82.3\n",
       "11     Ann      Toronto      79.0          81.0      95.0   84.4\n",
       "13      Yi     Shanghai      80.0          88.0      79.0   82.1\n",
       "16    Nori        Osaka      84.0          81.0      80.0   81.9"
      ]
     },
     "execution_count": 64,
     "metadata": {},
     "output_type": "execute_result"
    }
   ],
   "source": [
    "# You now have the Series filter_ filled with Boolean data. The expression df[filter_] returns a pandas DataFrame with the rows from df that correspond to True in filter_:\n",
    "\n",
    "df[filter_]"
   ]
  },
  {
   "cell_type": "code",
   "execution_count": 65,
   "id": "88b1377b",
   "metadata": {},
   "outputs": [],
   "source": [
    "# You can create very powerful and sophisticated expressions by combining logical operations with the following operators:\n",
    "\n",
    "#     NOT (~)\n",
    "#     AND (&)\n",
    "#     OR (|)\n",
    "#     XOR (^)"
   ]
  },
  {
   "cell_type": "code",
   "execution_count": 66,
   "id": "2b35cf2a",
   "metadata": {},
   "outputs": [
    {
     "data": {
      "text/html": [
       "<div>\n",
       "<style scoped>\n",
       "    .dataframe tbody tr th:only-of-type {\n",
       "        vertical-align: middle;\n",
       "    }\n",
       "\n",
       "    .dataframe tbody tr th {\n",
       "        vertical-align: top;\n",
       "    }\n",
       "\n",
       "    .dataframe thead th {\n",
       "        text-align: right;\n",
       "    }\n",
       "</style>\n",
       "<table border=\"1\" class=\"dataframe\">\n",
       "  <thead>\n",
       "    <tr style=\"text-align: right;\">\n",
       "      <th></th>\n",
       "      <th>name</th>\n",
       "      <th>city</th>\n",
       "      <th>py-score</th>\n",
       "      <th>django-score</th>\n",
       "      <th>js-score</th>\n",
       "      <th>total</th>\n",
       "    </tr>\n",
       "  </thead>\n",
       "  <tbody>\n",
       "    <tr>\n",
       "      <th>12</th>\n",
       "      <td>Jana</td>\n",
       "      <td>Prague</td>\n",
       "      <td>81.0</td>\n",
       "      <td>78.0</td>\n",
       "      <td>88.0</td>\n",
       "      <td>82.2</td>\n",
       "    </tr>\n",
       "    <tr>\n",
       "      <th>16</th>\n",
       "      <td>Nori</td>\n",
       "      <td>Osaka</td>\n",
       "      <td>84.0</td>\n",
       "      <td>81.0</td>\n",
       "      <td>80.0</td>\n",
       "      <td>81.9</td>\n",
       "    </tr>\n",
       "  </tbody>\n",
       "</table>\n",
       "</div>"
      ],
      "text/plain": [
       "    name    city  py-score  django-score  js-score  total\n",
       "12  Jana  Prague      81.0          78.0      88.0   82.2\n",
       "16  Nori   Osaka      84.0          81.0      80.0   81.9"
      ]
     },
     "execution_count": 66,
     "metadata": {},
     "output_type": "execute_result"
    }
   ],
   "source": [
    "# you can get a DataFrame with the candidates whose py-score and js-score are greater than or equal to 80:\n",
    "df[(df['py-score'] >= 80) & (df['js-score'] >= 80)]"
   ]
  },
  {
   "cell_type": "markdown",
   "id": "483251f0",
   "metadata": {},
   "source": [
    "#### .where ( ) method"
   ]
  },
  {
   "cell_type": "code",
   "execution_count": 67,
   "id": "806cf09b",
   "metadata": {},
   "outputs": [
    {
     "data": {
      "text/plain": [
       "10    86.0\n",
       "11    81.0\n",
       "12     0.0\n",
       "13    88.0\n",
       "14     0.0\n",
       "15     0.0\n",
       "16    81.0\n",
       "Name: django-score, dtype: float64"
      ]
     },
     "execution_count": 67,
     "metadata": {},
     "output_type": "execute_result"
    }
   ],
   "source": [
    "# It replaces the values in the positions where the provided condition isn’t satisfied:\n",
    "# In this example, the condition is df['django-score'] >= 80. The values of the DataFrame or Series that calls .where() will remain the same where the condition is True \n",
    "# it will be replaced with the value of other (in this case 0.0) where the condition is False.\n",
    "\n",
    "\n",
    "df['django-score'].where(cond=df['django-score'] >= 80, other=0.0)"
   ]
  },
  {
   "cell_type": "markdown",
   "id": "d1f03d9a",
   "metadata": {},
   "source": [
    "## Determining Data Statistics\n",
    "#### .describe ( )"
   ]
  },
  {
   "cell_type": "code",
   "execution_count": 68,
   "id": "b5acc441",
   "metadata": {},
   "outputs": [
    {
     "data": {
      "text/html": [
       "<div>\n",
       "<style scoped>\n",
       "    .dataframe tbody tr th:only-of-type {\n",
       "        vertical-align: middle;\n",
       "    }\n",
       "\n",
       "    .dataframe tbody tr th {\n",
       "        vertical-align: top;\n",
       "    }\n",
       "\n",
       "    .dataframe thead th {\n",
       "        text-align: right;\n",
       "    }\n",
       "</style>\n",
       "<table border=\"1\" class=\"dataframe\">\n",
       "  <thead>\n",
       "    <tr style=\"text-align: right;\">\n",
       "      <th></th>\n",
       "      <th>py-score</th>\n",
       "      <th>django-score</th>\n",
       "      <th>js-score</th>\n",
       "      <th>total</th>\n",
       "    </tr>\n",
       "  </thead>\n",
       "  <tbody>\n",
       "    <tr>\n",
       "      <th>count</th>\n",
       "      <td>7.000000</td>\n",
       "      <td>7.000000</td>\n",
       "      <td>7.000000</td>\n",
       "      <td>7.000000</td>\n",
       "    </tr>\n",
       "    <tr>\n",
       "      <th>mean</th>\n",
       "      <td>77.285714</td>\n",
       "      <td>79.714286</td>\n",
       "      <td>85.000000</td>\n",
       "      <td>80.328571</td>\n",
       "    </tr>\n",
       "    <tr>\n",
       "      <th>std</th>\n",
       "      <td>9.446592</td>\n",
       "      <td>6.343350</td>\n",
       "      <td>8.544004</td>\n",
       "      <td>4.101510</td>\n",
       "    </tr>\n",
       "    <tr>\n",
       "      <th>min</th>\n",
       "      <td>61.000000</td>\n",
       "      <td>70.000000</td>\n",
       "      <td>71.000000</td>\n",
       "      <td>72.700000</td>\n",
       "    </tr>\n",
       "    <tr>\n",
       "      <th>25%</th>\n",
       "      <td>73.500000</td>\n",
       "      <td>76.000000</td>\n",
       "      <td>79.500000</td>\n",
       "      <td>79.300000</td>\n",
       "    </tr>\n",
       "    <tr>\n",
       "      <th>50%</th>\n",
       "      <td>80.000000</td>\n",
       "      <td>81.000000</td>\n",
       "      <td>88.000000</td>\n",
       "      <td>82.100000</td>\n",
       "    </tr>\n",
       "    <tr>\n",
       "      <th>75%</th>\n",
       "      <td>82.500000</td>\n",
       "      <td>83.500000</td>\n",
       "      <td>91.000000</td>\n",
       "      <td>82.250000</td>\n",
       "    </tr>\n",
       "    <tr>\n",
       "      <th>max</th>\n",
       "      <td>88.000000</td>\n",
       "      <td>88.000000</td>\n",
       "      <td>95.000000</td>\n",
       "      <td>84.400000</td>\n",
       "    </tr>\n",
       "  </tbody>\n",
       "</table>\n",
       "</div>"
      ],
      "text/plain": [
       "        py-score  django-score   js-score      total\n",
       "count   7.000000      7.000000   7.000000   7.000000\n",
       "mean   77.285714     79.714286  85.000000  80.328571\n",
       "std     9.446592      6.343350   8.544004   4.101510\n",
       "min    61.000000     70.000000  71.000000  72.700000\n",
       "25%    73.500000     76.000000  79.500000  79.300000\n",
       "50%    80.000000     81.000000  88.000000  82.100000\n",
       "75%    82.500000     83.500000  91.000000  82.250000\n",
       "max    88.000000     88.000000  95.000000  84.400000"
      ]
     },
     "execution_count": 68,
     "metadata": {},
     "output_type": "execute_result"
    }
   ],
   "source": [
    "# get basic statistics for the numerical columns of a pandas DataFrame\n",
    "# .describe() returns a new DataFrame with the number of rows indicated by count, as well as the mean, standard deviation, minimum, maximum, and quartiles of the columns.\n",
    "\n",
    "df.describe()"
   ]
  },
  {
   "cell_type": "markdown",
   "id": "6d63ca25",
   "metadata": {},
   "source": [
    "#### .mean ( )"
   ]
  },
  {
   "cell_type": "code",
   "execution_count": 69,
   "id": "a4286ed9",
   "metadata": {},
   "outputs": [
    {
     "data": {
      "text/plain": [
       "77.28571428571429"
      ]
     },
     "execution_count": 69,
     "metadata": {},
     "output_type": "execute_result"
    }
   ],
   "source": [
    "df[\"py-score\"].mean()"
   ]
  },
  {
   "cell_type": "markdown",
   "id": "074486fe",
   "metadata": {},
   "source": [
    "#### .std ( )"
   ]
  },
  {
   "cell_type": "code",
   "execution_count": 70,
   "id": "1b1cbc0e",
   "metadata": {},
   "outputs": [
    {
     "data": {
      "text/plain": [
       "9.446591726019244"
      ]
     },
     "execution_count": 70,
     "metadata": {},
     "output_type": "execute_result"
    }
   ],
   "source": [
    "df[\"py-score\"].std()"
   ]
  },
  {
   "cell_type": "markdown",
   "id": "60219909",
   "metadata": {},
   "source": [
    "## Handling Missing Data"
   ]
  },
  {
   "cell_type": "code",
   "execution_count": 71,
   "id": "e1fe10bb",
   "metadata": {},
   "outputs": [],
   "source": [
    "# pandas usually represents missing data with NaN (not a number) values."
   ]
  },
  {
   "cell_type": "code",
   "execution_count": 72,
   "id": "509ae66a",
   "metadata": {},
   "outputs": [
    {
     "data": {
      "text/html": [
       "<div>\n",
       "<style scoped>\n",
       "    .dataframe tbody tr th:only-of-type {\n",
       "        vertical-align: middle;\n",
       "    }\n",
       "\n",
       "    .dataframe tbody tr th {\n",
       "        vertical-align: top;\n",
       "    }\n",
       "\n",
       "    .dataframe thead th {\n",
       "        text-align: right;\n",
       "    }\n",
       "</style>\n",
       "<table border=\"1\" class=\"dataframe\">\n",
       "  <thead>\n",
       "    <tr style=\"text-align: right;\">\n",
       "      <th></th>\n",
       "      <th>x</th>\n",
       "    </tr>\n",
       "  </thead>\n",
       "  <tbody>\n",
       "    <tr>\n",
       "      <th>0</th>\n",
       "      <td>1.0</td>\n",
       "    </tr>\n",
       "    <tr>\n",
       "      <th>1</th>\n",
       "      <td>2.0</td>\n",
       "    </tr>\n",
       "    <tr>\n",
       "      <th>2</th>\n",
       "      <td>NaN</td>\n",
       "    </tr>\n",
       "    <tr>\n",
       "      <th>3</th>\n",
       "      <td>4.0</td>\n",
       "    </tr>\n",
       "  </tbody>\n",
       "</table>\n",
       "</div>"
      ],
      "text/plain": [
       "     x\n",
       "0  1.0\n",
       "1  2.0\n",
       "2  NaN\n",
       "3  4.0"
      ]
     },
     "execution_count": 72,
     "metadata": {},
     "output_type": "execute_result"
    }
   ],
   "source": [
    "df_ = pd.DataFrame({'x': [1, 2, np.nan, 4]})\n",
    "df_"
   ]
  },
  {
   "cell_type": "code",
   "execution_count": 73,
   "id": "d243ed5d",
   "metadata": {},
   "outputs": [
    {
     "data": {
      "text/plain": [
       "x    2.333333\n",
       "dtype: float64"
      ]
     },
     "execution_count": 73,
     "metadata": {},
     "output_type": "execute_result"
    }
   ],
   "source": [
    "# Many pandas methods omit nan values when performing calculations unless they are explicitly instructed not to:\n",
    "\n",
    "df_.mean()"
   ]
  },
  {
   "cell_type": "code",
   "execution_count": 74,
   "id": "24299353",
   "metadata": {},
   "outputs": [
    {
     "data": {
      "text/plain": [
       "x   NaN\n",
       "dtype: float64"
      ]
     },
     "execution_count": 74,
     "metadata": {},
     "output_type": "execute_result"
    }
   ],
   "source": [
    "df_.mean(skipna = False)"
   ]
  },
  {
   "cell_type": "markdown",
   "id": "4d1bc039",
   "metadata": {},
   "source": [
    "#### 1. filling missing data: .fillna ( )"
   ]
  },
  {
   "cell_type": "code",
   "execution_count": 75,
   "id": "bd1e5705",
   "metadata": {},
   "outputs": [
    {
     "data": {
      "text/html": [
       "<div>\n",
       "<style scoped>\n",
       "    .dataframe tbody tr th:only-of-type {\n",
       "        vertical-align: middle;\n",
       "    }\n",
       "\n",
       "    .dataframe tbody tr th {\n",
       "        vertical-align: top;\n",
       "    }\n",
       "\n",
       "    .dataframe thead th {\n",
       "        text-align: right;\n",
       "    }\n",
       "</style>\n",
       "<table border=\"1\" class=\"dataframe\">\n",
       "  <thead>\n",
       "    <tr style=\"text-align: right;\">\n",
       "      <th></th>\n",
       "      <th>x</th>\n",
       "    </tr>\n",
       "  </thead>\n",
       "  <tbody>\n",
       "    <tr>\n",
       "      <th>0</th>\n",
       "      <td>1.0</td>\n",
       "    </tr>\n",
       "    <tr>\n",
       "      <th>1</th>\n",
       "      <td>2.0</td>\n",
       "    </tr>\n",
       "    <tr>\n",
       "      <th>2</th>\n",
       "      <td>0.0</td>\n",
       "    </tr>\n",
       "    <tr>\n",
       "      <th>3</th>\n",
       "      <td>4.0</td>\n",
       "    </tr>\n",
       "  </tbody>\n",
       "</table>\n",
       "</div>"
      ],
      "text/plain": [
       "     x\n",
       "0  1.0\n",
       "1  2.0\n",
       "2  0.0\n",
       "3  4.0"
      ]
     },
     "execution_count": 75,
     "metadata": {},
     "output_type": "execute_result"
    }
   ],
   "source": [
    "# you can use .fillna () to replace missing value with specified value\n",
    "df_.fillna(value = 0)\n",
    "\n",
    "# OR, replace the missing value with value above the missing value\n",
    "# df_.fillna(method='ffill')\n",
    "\n",
    "# OR, # OR, replace the missing value with value below the missing value\n",
    "# df_.fillna(method='bfill')"
   ]
  },
  {
   "cell_type": "markdown",
   "id": "71072df5",
   "metadata": {},
   "source": [
    "#### 2. filling missing data: .interpolate ( )"
   ]
  },
  {
   "cell_type": "code",
   "execution_count": 76,
   "id": "6c54e247",
   "metadata": {},
   "outputs": [
    {
     "data": {
      "text/html": [
       "<div>\n",
       "<style scoped>\n",
       "    .dataframe tbody tr th:only-of-type {\n",
       "        vertical-align: middle;\n",
       "    }\n",
       "\n",
       "    .dataframe tbody tr th {\n",
       "        vertical-align: top;\n",
       "    }\n",
       "\n",
       "    .dataframe thead th {\n",
       "        text-align: right;\n",
       "    }\n",
       "</style>\n",
       "<table border=\"1\" class=\"dataframe\">\n",
       "  <thead>\n",
       "    <tr style=\"text-align: right;\">\n",
       "      <th></th>\n",
       "      <th>x</th>\n",
       "    </tr>\n",
       "  </thead>\n",
       "  <tbody>\n",
       "    <tr>\n",
       "      <th>0</th>\n",
       "      <td>1.0</td>\n",
       "    </tr>\n",
       "    <tr>\n",
       "      <th>1</th>\n",
       "      <td>2.0</td>\n",
       "    </tr>\n",
       "    <tr>\n",
       "      <th>2</th>\n",
       "      <td>3.0</td>\n",
       "    </tr>\n",
       "    <tr>\n",
       "      <th>3</th>\n",
       "      <td>4.0</td>\n",
       "    </tr>\n",
       "  </tbody>\n",
       "</table>\n",
       "</div>"
      ],
      "text/plain": [
       "     x\n",
       "0  1.0\n",
       "1  2.0\n",
       "2  3.0\n",
       "3  4.0"
      ]
     },
     "execution_count": 76,
     "metadata": {},
     "output_type": "execute_result"
    }
   ],
   "source": [
    "# replace missing values with interpolated values.\n",
    "#. interpolate value: Interpolation means determining a value from the existing values in a given data set. \n",
    "\n",
    "df_.interpolate()"
   ]
  },
  {
   "cell_type": "code",
   "execution_count": 77,
   "id": "85dda3d7",
   "metadata": {},
   "outputs": [],
   "source": [
    "# You can also use the optional parameter inplace with .fillna(). Doing so will:\n",
    "\n",
    "#     Create and return a new DataFrame when inplace=False\n",
    "#     Modify the existing DataFrame and return None when inplace=True\n",
    "#     The default setting for inplace is False. However, inplace=True can be very useful when you’re working with large amounts of data and want to prevent unnecessary and inefficient copying."
   ]
  },
  {
   "cell_type": "markdown",
   "id": "fb680712",
   "metadata": {},
   "source": [
    "#### 3. Deleting rows and columns with missign data: .dropna ( )"
   ]
  },
  {
   "cell_type": "code",
   "execution_count": 78,
   "id": "0a3e64e2",
   "metadata": {},
   "outputs": [
    {
     "data": {
      "text/html": [
       "<div>\n",
       "<style scoped>\n",
       "    .dataframe tbody tr th:only-of-type {\n",
       "        vertical-align: middle;\n",
       "    }\n",
       "\n",
       "    .dataframe tbody tr th {\n",
       "        vertical-align: top;\n",
       "    }\n",
       "\n",
       "    .dataframe thead th {\n",
       "        text-align: right;\n",
       "    }\n",
       "</style>\n",
       "<table border=\"1\" class=\"dataframe\">\n",
       "  <thead>\n",
       "    <tr style=\"text-align: right;\">\n",
       "      <th></th>\n",
       "      <th>x</th>\n",
       "    </tr>\n",
       "  </thead>\n",
       "  <tbody>\n",
       "    <tr>\n",
       "      <th>0</th>\n",
       "      <td>1.0</td>\n",
       "    </tr>\n",
       "    <tr>\n",
       "      <th>1</th>\n",
       "      <td>2.0</td>\n",
       "    </tr>\n",
       "    <tr>\n",
       "      <th>3</th>\n",
       "      <td>4.0</td>\n",
       "    </tr>\n",
       "  </tbody>\n",
       "</table>\n",
       "</div>"
      ],
      "text/plain": [
       "     x\n",
       "0  1.0\n",
       "1  2.0\n",
       "3  4.0"
      ]
     },
     "execution_count": 78,
     "metadata": {},
     "output_type": "execute_result"
    }
   ],
   "source": [
    "# In certain situations, you might want to delete rows or even columns that have missing values. You can do this with .dropna():\n",
    "\n",
    "df_.dropna()"
   ]
  },
  {
   "cell_type": "markdown",
   "id": "a991d31b",
   "metadata": {},
   "source": [
    "## Iterating over a pandas series"
   ]
  },
  {
   "cell_type": "code",
   "execution_count": 79,
   "id": "9aafb775",
   "metadata": {},
   "outputs": [],
   "source": [
    "# iterating over a pandas dataframe:\n",
    "\n",
    "#     .items() to iterate over columns\n",
    "#     .iterrows() to iterate over rows\n",
    "#     .itertuples() to iterate over rows and get named tuples"
   ]
  },
  {
   "cell_type": "markdown",
   "id": "56220b14",
   "metadata": {},
   "source": [
    "#### .items ( )"
   ]
  },
  {
   "cell_type": "code",
   "execution_count": 81,
   "id": "bae2e092",
   "metadata": {},
   "outputs": [
    {
     "name": "stdout",
     "output_type": "stream",
     "text": [
      "name\n",
      "10    Xavier\n",
      "11       Ann\n",
      "12      Jana\n",
      "13        Yi\n",
      "14     Robin\n",
      "15      Amal\n",
      "16      Nori\n",
      "Name: name, dtype: object\n",
      "\n",
      "city\n",
      "10    Mexico City\n",
      "11        Toronto\n",
      "12         Prague\n",
      "13       Shanghai\n",
      "14     Manchester\n",
      "15          Cairo\n",
      "16          Osaka\n",
      "Name: city, dtype: object\n",
      "\n",
      "py-score\n",
      "10    88.0\n",
      "11    79.0\n",
      "12    81.0\n",
      "13    80.0\n",
      "14    68.0\n",
      "15    61.0\n",
      "16    84.0\n",
      "Name: py-score, dtype: float64\n",
      "\n",
      "django-score\n",
      "10    86.0\n",
      "11    81.0\n",
      "12    78.0\n",
      "13    88.0\n",
      "14    74.0\n",
      "15    70.0\n",
      "16    81.0\n",
      "Name: django-score, dtype: float64\n",
      "\n",
      "js-score\n",
      "10    71.0\n",
      "11    95.0\n",
      "12    88.0\n",
      "13    79.0\n",
      "14    91.0\n",
      "15    91.0\n",
      "16    80.0\n",
      "Name: js-score, dtype: float64\n",
      "\n",
      "total\n",
      "10    82.3\n",
      "11    84.4\n",
      "12    82.2\n",
      "13    82.1\n",
      "14    76.7\n",
      "15    72.7\n",
      "16    81.9\n",
      "Name: total, dtype: float64\n",
      "\n"
     ]
    }
   ],
   "source": [
    "# With .items(), you iterate over the columns of a pandas DataFrame. \n",
    "# Each iteration yields a tuple with the name of the column and the column data as a Series object:\n",
    "\n",
    "for col_label, col in df.items():\n",
    "    print(col_label, col, sep='\\n', end='\\n\\n')"
   ]
  },
  {
   "cell_type": "markdown",
   "id": "5684e608",
   "metadata": {},
   "source": [
    "#### .iterrows ( )"
   ]
  },
  {
   "cell_type": "code",
   "execution_count": 82,
   "id": "1af75f8a",
   "metadata": {},
   "outputs": [
    {
     "name": "stdout",
     "output_type": "stream",
     "text": [
      "10\n",
      "name                 Xavier\n",
      "city            Mexico City\n",
      "py-score               88.0\n",
      "django-score           86.0\n",
      "js-score               71.0\n",
      "total                  82.3\n",
      "Name: 10, dtype: object\n",
      "\n",
      "11\n",
      "name                Ann\n",
      "city            Toronto\n",
      "py-score           79.0\n",
      "django-score       81.0\n",
      "js-score           95.0\n",
      "total              84.4\n",
      "Name: 11, dtype: object\n",
      "\n",
      "12\n",
      "name              Jana\n",
      "city            Prague\n",
      "py-score          81.0\n",
      "django-score      78.0\n",
      "js-score          88.0\n",
      "total             82.2\n",
      "Name: 12, dtype: object\n",
      "\n",
      "13\n",
      "name                  Yi\n",
      "city            Shanghai\n",
      "py-score            80.0\n",
      "django-score        88.0\n",
      "js-score            79.0\n",
      "total               82.1\n",
      "Name: 13, dtype: object\n",
      "\n",
      "14\n",
      "name                 Robin\n",
      "city            Manchester\n",
      "py-score              68.0\n",
      "django-score          74.0\n",
      "js-score              91.0\n",
      "total                 76.7\n",
      "Name: 14, dtype: object\n",
      "\n",
      "15\n",
      "name             Amal\n",
      "city            Cairo\n",
      "py-score         61.0\n",
      "django-score     70.0\n",
      "js-score         91.0\n",
      "total            72.7\n",
      "Name: 15, dtype: object\n",
      "\n",
      "16\n",
      "name             Nori\n",
      "city            Osaka\n",
      "py-score         84.0\n",
      "django-score     81.0\n",
      "js-score         80.0\n",
      "total            81.9\n",
      "Name: 16, dtype: object\n",
      "\n"
     ]
    }
   ],
   "source": [
    "# With .iterrows(), you iterate over the rows of a pandas DataFrame. \n",
    "# Each iteration yields a tuple with the name of the row and the row data as a Series object:\n",
    "\n",
    "for row_label, row in df.iterrows():\n",
    "    print(row_label, row, sep='\\n', end='\\n\\n')"
   ]
  },
  {
   "cell_type": "markdown",
   "id": "2d1d56ce",
   "metadata": {},
   "source": [
    "#### .itertuples ( )"
   ]
  },
  {
   "cell_type": "code",
   "execution_count": 84,
   "id": "ac48ffc4",
   "metadata": {},
   "outputs": [
    {
     "name": "stdout",
     "output_type": "stream",
     "text": [
      "Pandas(Index=10, name='Xavier', city='Mexico City', total=82.3)\n",
      "Pandas(Index=11, name='Ann', city='Toronto', total=84.4)\n",
      "Pandas(Index=12, name='Jana', city='Prague', total=82.19999999999999)\n",
      "Pandas(Index=13, name='Yi', city='Shanghai', total=82.1)\n",
      "Pandas(Index=14, name='Robin', city='Manchester', total=76.7)\n",
      "Pandas(Index=15, name='Amal', city='Cairo', total=72.7)\n",
      "Pandas(Index=16, name='Nori', city='Osaka', total=81.9)\n"
     ]
    }
   ],
   "source": [
    "# .itertuples() iterates over the rows and in each iteration yields a named tuple with (optionally) the index and data:\n",
    "\n",
    "for row in df.loc[:, ['name', 'city', 'total']].itertuples():\n",
    "    print(row)"
   ]
  },
  {
   "cell_type": "markdown",
   "id": "338978fe",
   "metadata": {},
   "source": [
    "## Working with Time Series"
   ]
  },
  {
   "cell_type": "code",
   "execution_count": 85,
   "id": "6ca5ae43",
   "metadata": {},
   "outputs": [],
   "source": [
    "temp_c = [ 8.0,  7.1,  6.8,  6.4,  6.0,  5.4,  4.8,  5.0,\n",
    "           9.1, 12.8, 15.3, 19.1, 21.2, 22.1, 22.4, 23.1,\n",
    "          21.0, 17.9, 15.5, 14.4, 11.9, 11.0, 10.2,  9.1]"
   ]
  },
  {
   "cell_type": "code",
   "execution_count": 86,
   "id": "ab45c790",
   "metadata": {},
   "outputs": [
    {
     "data": {
      "text/plain": [
       "DatetimeIndex(['2019-10-27 00:00:00', '2019-10-27 01:00:00',\n",
       "               '2019-10-27 02:00:00', '2019-10-27 03:00:00',\n",
       "               '2019-10-27 04:00:00', '2019-10-27 05:00:00',\n",
       "               '2019-10-27 06:00:00', '2019-10-27 07:00:00',\n",
       "               '2019-10-27 08:00:00', '2019-10-27 09:00:00',\n",
       "               '2019-10-27 10:00:00', '2019-10-27 11:00:00',\n",
       "               '2019-10-27 12:00:00', '2019-10-27 13:00:00',\n",
       "               '2019-10-27 14:00:00', '2019-10-27 15:00:00',\n",
       "               '2019-10-27 16:00:00', '2019-10-27 17:00:00',\n",
       "               '2019-10-27 18:00:00', '2019-10-27 19:00:00',\n",
       "               '2019-10-27 20:00:00', '2019-10-27 21:00:00',\n",
       "               '2019-10-27 22:00:00', '2019-10-27 23:00:00'],\n",
       "              dtype='datetime64[ns]', freq='H')"
      ]
     },
     "execution_count": 86,
     "metadata": {},
     "output_type": "execute_result"
    }
   ],
   "source": [
    "# The next step is to create a sequence of dates and times. \n",
    "# pandas provides a very convenient function, date_range(), for this purpose:\n",
    "\n",
    "dt = pd.date_range(start='2019-10-27 00:00:00.0', periods=24,\n",
    "                   freq='H')\n",
    "dt"
   ]
  },
  {
   "cell_type": "code",
   "execution_count": 88,
   "id": "f817ca99",
   "metadata": {},
   "outputs": [
    {
     "data": {
      "text/html": [
       "<div>\n",
       "<style scoped>\n",
       "    .dataframe tbody tr th:only-of-type {\n",
       "        vertical-align: middle;\n",
       "    }\n",
       "\n",
       "    .dataframe tbody tr th {\n",
       "        vertical-align: top;\n",
       "    }\n",
       "\n",
       "    .dataframe thead th {\n",
       "        text-align: right;\n",
       "    }\n",
       "</style>\n",
       "<table border=\"1\" class=\"dataframe\">\n",
       "  <thead>\n",
       "    <tr style=\"text-align: right;\">\n",
       "      <th></th>\n",
       "      <th>temp_c</th>\n",
       "    </tr>\n",
       "  </thead>\n",
       "  <tbody>\n",
       "    <tr>\n",
       "      <th>2019-10-27 00:00:00</th>\n",
       "      <td>8.0</td>\n",
       "    </tr>\n",
       "    <tr>\n",
       "      <th>2019-10-27 01:00:00</th>\n",
       "      <td>7.1</td>\n",
       "    </tr>\n",
       "    <tr>\n",
       "      <th>2019-10-27 02:00:00</th>\n",
       "      <td>6.8</td>\n",
       "    </tr>\n",
       "    <tr>\n",
       "      <th>2019-10-27 03:00:00</th>\n",
       "      <td>6.4</td>\n",
       "    </tr>\n",
       "    <tr>\n",
       "      <th>2019-10-27 04:00:00</th>\n",
       "      <td>6.0</td>\n",
       "    </tr>\n",
       "    <tr>\n",
       "      <th>2019-10-27 05:00:00</th>\n",
       "      <td>5.4</td>\n",
       "    </tr>\n",
       "    <tr>\n",
       "      <th>2019-10-27 06:00:00</th>\n",
       "      <td>4.8</td>\n",
       "    </tr>\n",
       "    <tr>\n",
       "      <th>2019-10-27 07:00:00</th>\n",
       "      <td>5.0</td>\n",
       "    </tr>\n",
       "    <tr>\n",
       "      <th>2019-10-27 08:00:00</th>\n",
       "      <td>9.1</td>\n",
       "    </tr>\n",
       "    <tr>\n",
       "      <th>2019-10-27 09:00:00</th>\n",
       "      <td>12.8</td>\n",
       "    </tr>\n",
       "    <tr>\n",
       "      <th>2019-10-27 10:00:00</th>\n",
       "      <td>15.3</td>\n",
       "    </tr>\n",
       "    <tr>\n",
       "      <th>2019-10-27 11:00:00</th>\n",
       "      <td>19.1</td>\n",
       "    </tr>\n",
       "    <tr>\n",
       "      <th>2019-10-27 12:00:00</th>\n",
       "      <td>21.2</td>\n",
       "    </tr>\n",
       "    <tr>\n",
       "      <th>2019-10-27 13:00:00</th>\n",
       "      <td>22.1</td>\n",
       "    </tr>\n",
       "    <tr>\n",
       "      <th>2019-10-27 14:00:00</th>\n",
       "      <td>22.4</td>\n",
       "    </tr>\n",
       "    <tr>\n",
       "      <th>2019-10-27 15:00:00</th>\n",
       "      <td>23.1</td>\n",
       "    </tr>\n",
       "    <tr>\n",
       "      <th>2019-10-27 16:00:00</th>\n",
       "      <td>21.0</td>\n",
       "    </tr>\n",
       "    <tr>\n",
       "      <th>2019-10-27 17:00:00</th>\n",
       "      <td>17.9</td>\n",
       "    </tr>\n",
       "    <tr>\n",
       "      <th>2019-10-27 18:00:00</th>\n",
       "      <td>15.5</td>\n",
       "    </tr>\n",
       "    <tr>\n",
       "      <th>2019-10-27 19:00:00</th>\n",
       "      <td>14.4</td>\n",
       "    </tr>\n",
       "    <tr>\n",
       "      <th>2019-10-27 20:00:00</th>\n",
       "      <td>11.9</td>\n",
       "    </tr>\n",
       "    <tr>\n",
       "      <th>2019-10-27 21:00:00</th>\n",
       "      <td>11.0</td>\n",
       "    </tr>\n",
       "    <tr>\n",
       "      <th>2019-10-27 22:00:00</th>\n",
       "      <td>10.2</td>\n",
       "    </tr>\n",
       "    <tr>\n",
       "      <th>2019-10-27 23:00:00</th>\n",
       "      <td>9.1</td>\n",
       "    </tr>\n",
       "  </tbody>\n",
       "</table>\n",
       "</div>"
      ],
      "text/plain": [
       "                     temp_c\n",
       "2019-10-27 00:00:00     8.0\n",
       "2019-10-27 01:00:00     7.1\n",
       "2019-10-27 02:00:00     6.8\n",
       "2019-10-27 03:00:00     6.4\n",
       "2019-10-27 04:00:00     6.0\n",
       "2019-10-27 05:00:00     5.4\n",
       "2019-10-27 06:00:00     4.8\n",
       "2019-10-27 07:00:00     5.0\n",
       "2019-10-27 08:00:00     9.1\n",
       "2019-10-27 09:00:00    12.8\n",
       "2019-10-27 10:00:00    15.3\n",
       "2019-10-27 11:00:00    19.1\n",
       "2019-10-27 12:00:00    21.2\n",
       "2019-10-27 13:00:00    22.1\n",
       "2019-10-27 14:00:00    22.4\n",
       "2019-10-27 15:00:00    23.1\n",
       "2019-10-27 16:00:00    21.0\n",
       "2019-10-27 17:00:00    17.9\n",
       "2019-10-27 18:00:00    15.5\n",
       "2019-10-27 19:00:00    14.4\n",
       "2019-10-27 20:00:00    11.9\n",
       "2019-10-27 21:00:00    11.0\n",
       "2019-10-27 22:00:00    10.2\n",
       "2019-10-27 23:00:00     9.1"
      ]
     },
     "execution_count": 88,
     "metadata": {},
     "output_type": "execute_result"
    }
   ],
   "source": [
    "temp = pd.DataFrame(data={'temp_c': temp_c}, index=dt)\n",
    "temp"
   ]
  },
  {
   "cell_type": "code",
   "execution_count": 89,
   "id": "2fa1f17c",
   "metadata": {},
   "outputs": [
    {
     "data": {
      "text/html": [
       "<div>\n",
       "<style scoped>\n",
       "    .dataframe tbody tr th:only-of-type {\n",
       "        vertical-align: middle;\n",
       "    }\n",
       "\n",
       "    .dataframe tbody tr th {\n",
       "        vertical-align: top;\n",
       "    }\n",
       "\n",
       "    .dataframe thead th {\n",
       "        text-align: right;\n",
       "    }\n",
       "</style>\n",
       "<table border=\"1\" class=\"dataframe\">\n",
       "  <thead>\n",
       "    <tr style=\"text-align: right;\">\n",
       "      <th></th>\n",
       "      <th>temp_c</th>\n",
       "    </tr>\n",
       "  </thead>\n",
       "  <tbody>\n",
       "    <tr>\n",
       "      <th>2019-10-27 05:00:00</th>\n",
       "      <td>5.4</td>\n",
       "    </tr>\n",
       "    <tr>\n",
       "      <th>2019-10-27 06:00:00</th>\n",
       "      <td>4.8</td>\n",
       "    </tr>\n",
       "    <tr>\n",
       "      <th>2019-10-27 07:00:00</th>\n",
       "      <td>5.0</td>\n",
       "    </tr>\n",
       "    <tr>\n",
       "      <th>2019-10-27 08:00:00</th>\n",
       "      <td>9.1</td>\n",
       "    </tr>\n",
       "    <tr>\n",
       "      <th>2019-10-27 09:00:00</th>\n",
       "      <td>12.8</td>\n",
       "    </tr>\n",
       "    <tr>\n",
       "      <th>2019-10-27 10:00:00</th>\n",
       "      <td>15.3</td>\n",
       "    </tr>\n",
       "    <tr>\n",
       "      <th>2019-10-27 11:00:00</th>\n",
       "      <td>19.1</td>\n",
       "    </tr>\n",
       "    <tr>\n",
       "      <th>2019-10-27 12:00:00</th>\n",
       "      <td>21.2</td>\n",
       "    </tr>\n",
       "    <tr>\n",
       "      <th>2019-10-27 13:00:00</th>\n",
       "      <td>22.1</td>\n",
       "    </tr>\n",
       "    <tr>\n",
       "      <th>2019-10-27 14:00:00</th>\n",
       "      <td>22.4</td>\n",
       "    </tr>\n",
       "  </tbody>\n",
       "</table>\n",
       "</div>"
      ],
      "text/plain": [
       "                     temp_c\n",
       "2019-10-27 05:00:00     5.4\n",
       "2019-10-27 06:00:00     4.8\n",
       "2019-10-27 07:00:00     5.0\n",
       "2019-10-27 08:00:00     9.1\n",
       "2019-10-27 09:00:00    12.8\n",
       "2019-10-27 10:00:00    15.3\n",
       "2019-10-27 11:00:00    19.1\n",
       "2019-10-27 12:00:00    21.2\n",
       "2019-10-27 13:00:00    22.1\n",
       "2019-10-27 14:00:00    22.4"
      ]
     },
     "execution_count": 89,
     "metadata": {},
     "output_type": "execute_result"
    }
   ],
   "source": [
    "# indexing and slicing time series\n",
    "\n",
    "temp['2019-10-27 05':'2019-10-27 14']"
   ]
  },
  {
   "cell_type": "code",
   "execution_count": 92,
   "id": "73e98307",
   "metadata": {},
   "outputs": [
    {
     "data": {
      "text/html": [
       "<div>\n",
       "<style scoped>\n",
       "    .dataframe tbody tr th:only-of-type {\n",
       "        vertical-align: middle;\n",
       "    }\n",
       "\n",
       "    .dataframe tbody tr th {\n",
       "        vertical-align: top;\n",
       "    }\n",
       "\n",
       "    .dataframe thead th {\n",
       "        text-align: right;\n",
       "    }\n",
       "</style>\n",
       "<table border=\"1\" class=\"dataframe\">\n",
       "  <thead>\n",
       "    <tr style=\"text-align: right;\">\n",
       "      <th></th>\n",
       "      <th>temp_c</th>\n",
       "    </tr>\n",
       "  </thead>\n",
       "  <tbody>\n",
       "    <tr>\n",
       "      <th>2019-10-27 00:00:00</th>\n",
       "      <td>6.616667</td>\n",
       "    </tr>\n",
       "    <tr>\n",
       "      <th>2019-10-27 06:00:00</th>\n",
       "      <td>11.016667</td>\n",
       "    </tr>\n",
       "    <tr>\n",
       "      <th>2019-10-27 12:00:00</th>\n",
       "      <td>21.283333</td>\n",
       "    </tr>\n",
       "    <tr>\n",
       "      <th>2019-10-27 18:00:00</th>\n",
       "      <td>12.016667</td>\n",
       "    </tr>\n",
       "  </tbody>\n",
       "</table>\n",
       "</div>"
      ],
      "text/plain": [
       "                        temp_c\n",
       "2019-10-27 00:00:00   6.616667\n",
       "2019-10-27 06:00:00  11.016667\n",
       "2019-10-27 12:00:00  21.283333\n",
       "2019-10-27 18:00:00  12.016667"
      ]
     },
     "execution_count": 92,
     "metadata": {},
     "output_type": "execute_result"
    }
   ],
   "source": [
    "# resampling\n",
    "# If you want to split a day into four six-hour intervals and get the mean temperature for each interval, then you’re just one statement away from doing so. \n",
    "# pandas provides the method .resample(), which you can combine with other methods such as .mean():\n",
    "\n",
    "temp.resample(rule = \"6h\").mean()"
   ]
  },
  {
   "cell_type": "code",
   "execution_count": 93,
   "id": "450c24ed",
   "metadata": {},
   "outputs": [],
   "source": [
    "# instead of .mean(), you can apply .min() or .max() to get the minimum and maximum temperatures for each interval. \n",
    "# You can also use .sum() to get the sums of data values, although this information probably isn’t useful when you’re working with temperatures."
   ]
  },
  {
   "cell_type": "markdown",
   "id": "178401e2",
   "metadata": {},
   "source": [
    "## Plotting with Pandas DataFrame"
   ]
  },
  {
   "cell_type": "code",
   "execution_count": 94,
   "id": "09952f3c",
   "metadata": {},
   "outputs": [],
   "source": [
    "# If you want to display the plots, then you first need to import matplotlib.pyplot:\n",
    "\n",
    "import matplotlib.pyplot as plt"
   ]
  },
  {
   "cell_type": "code",
   "execution_count": 96,
   "id": "9b953c7d",
   "metadata": {},
   "outputs": [
    {
     "data": {
      "image/png": "[encoded data removed]",
      "text/plain": [
       "<Figure size 640x480 with 1 Axes>"
      ]
     },
     "metadata": {},
     "output_type": "display_data"
    }
   ],
   "source": [
    "# Now you can use pandas.DataFrame.plot() to create the plot and plt.show() to display it:\n",
    "\n",
    "temp.plot()\n",
    "plt.show()"
   ]
  },
  {
   "cell_type": "code",
   "execution_count": 97,
   "id": "d57c1a30",
   "metadata": {},
   "outputs": [
    {
     "data": {
      "image/png": "[encoded data removed]",
      "text/plain": [
       "<Figure size 640x480 with 1 Axes>"
      ]
     },
     "metadata": {},
     "output_type": "display_data"
    }
   ],
   "source": [
    "# You can save your figure by chaining the methods .get_figure() and .savefig():\n",
    "\n",
    "temp.plot().get_figure().savefig('temperatures.png')"
   ]
  },
  {
   "cell_type": "code",
   "execution_count": 100,
   "id": "ff0969ba",
   "metadata": {},
   "outputs": [
    {
     "data": {
      "image/png": "[encoded data removed]",
      "text/plain": [
       "<Figure size 640x480 with 1 Axes>"
      ]
     },
     "metadata": {},
     "output_type": "display_data"
    }
   ],
   "source": [
    "# For example, you can visualize your job candidate data from before as a histogram with .plot.hist():\n",
    "\n",
    "df.loc[:, ['py-score', 'total']].plot.hist(bins=5, alpha=0.4)\n",
    "plt.show()"
   ]
  },
  {
   "cell_type": "code",
   "execution_count": null,
   "id": "e3fafac7",
   "metadata": {},
   "outputs": [],
   "source": []
  }
 ],
 "metadata": {
  "kernelspec": {
   "display_name": "Python 3 (ipykernel)",
   "language": "python",
   "name": "python3"
  },
  "language_info": {
   "codemirror_mode": {
    "name": "ipython",
    "version": 3
   },
   "file_extension": ".py",
   "mimetype": "text/x-python",
   "name": "python",
   "nbconvert_exporter": "python",
   "pygments_lexer": "ipython3",
   "version": "3.11.5"
  }
 },
 "nbformat": 4,
 "nbformat_minor": 5
}
